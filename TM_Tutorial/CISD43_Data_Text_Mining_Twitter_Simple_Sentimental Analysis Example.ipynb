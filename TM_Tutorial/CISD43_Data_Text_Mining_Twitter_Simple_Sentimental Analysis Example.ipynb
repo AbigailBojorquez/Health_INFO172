{
 "cells": [
  {
   "cell_type": "markdown",
   "metadata": {},
   "source": [
    "- Sentiment Analysis - Understanding and extracting feelings from data\n",
    "- An API lets you access an apps functionality from your code\n",
    "- TextBlob is awesome for NLP tasks\n"
   ]
  },
  {
   "cell_type": "code",
   "execution_count": 3,
   "metadata": {},
   "outputs": [],
   "source": [
    "import tweepy\n",
    "from textblob import TextBlob"
   ]
  },
  {
   "cell_type": "code",
   "execution_count": null,
   "metadata": {},
   "outputs": [],
   "source": [
    "#required keys and tokens\n",
    "\n",
    "access_token = ''\n",
    "access_secret = ''\n",
    "consumer_key = ''\n",
    "consumer_secret = ''"
   ]
  },
  {
   "cell_type": "code",
   "execution_count": 5,
   "metadata": {},
   "outputs": [],
   "source": [
    "\n",
    "auth = tweepy.OAuthHandler(consumer_key, consumer_secret)\n",
    "auth.set_access_token(access_token, access_secret)\n",
    " \n",
    "twitter_api = tweepy.API(auth)"
   ]
  },
  {
   "cell_type": "markdown",
   "metadata": {},
   "source": [
    "**Important link**\n",
    "https://textblob.readthedocs.io/en/dev/quickstart.html"
   ]
  },
  {
   "cell_type": "code",
   "execution_count": 7,
   "metadata": {},
   "outputs": [],
   "source": [
    "public_tweets=twitter_api.search('Trump')"
   ]
  },
  {
   "cell_type": "markdown",
   "metadata": {},
   "source": [
    "- The sentiment function of textblob returns two properties, polarity, and subjectivity.\n",
    "- Polarity is float which lies in the range of [-1,1] where 1 means positive statement and -1 means a negative statement.\n",
    "- Subjective sentences generally refer to personal opinion, emotion or judgment whereas objective refers to factual information.\n",
    "\n"
   ]
  },
  {
   "cell_type": "code",
   "execution_count": 8,
   "metadata": {},
   "outputs": [
    {
     "name": "stdout",
     "output_type": "stream",
     "text": [
      "RT @Jordan_Sather_: You know what? HE'S RIGHT.\n",
      "\n",
      "https://t.co/nxdwYQ7wnW\n",
      "Sentiment(polarity=0.2857142857142857, subjectivity=0.5357142857142857)\n",
      "RT @PalmerReport: Donald Trump's day so far:\n",
      "\n",
      "- Second top White House staffer has coronavirus\n",
      "- This time it's Stephen Miller's wife Katie…\n",
      "Sentiment(polarity=0.15, subjectivity=0.375)\n",
      "RT @CarpeDonktum: Oliver Darcy: President Trump's attacks on the MSM represents a serious threat to democracy. Only Fascist Dictators attac…\n",
      "Sentiment(polarity=-0.16666666666666666, subjectivity=0.8333333333333333)\n",
      "RT @ArmsControlNow: \"Trump Appoints Special Arms Control Envoy,\" by @KingstonAReif and @sbugos in the latest #ArmsControlToday. \n",
      "\n",
      "Read more…\n",
      "Sentiment(polarity=0.4285714285714286, subjectivity=0.7357142857142858)\n",
      "RT @PMLorber: @JohnFugelsang .\n",
      "Don't let passing time diminish knowledge just how awful these people really are. Ivanka Trump, said daddy i…\n",
      "Sentiment(polarity=-0.4, subjectivity=0.6)\n",
      "RT @crazybutiful197: @Inevitable_ET I noticed something today listening to the Republican house meeting with Trump..could it be? https://t.…\n",
      "Sentiment(polarity=0.0, subjectivity=0.0)\n",
      "RT @occupycorruptDC: @keithboykin @realDonaldTrump If this is #Trump's Depression then who #Lockdown:\n",
      "\n",
      "- Beaches\n",
      "- Playgrounds\n",
      "- Parks\n",
      "- Ch…\n",
      "Sentiment(polarity=0.0, subjectivity=0.0)\n",
      "RT @MSNBC: Fmr. Deputy Labor Secretary Chris Lu says President Trump’s response to the economic downturn amid the coronavirus pandemic show…\n",
      "Sentiment(polarity=0.2, subjectivity=0.2)\n",
      "RT @Liz_Wheeler: Your daily reminder that @RepAdamSchiff LIED about Trump/Russia collusion... &amp; then tried to hide the proof that he lied.…\n",
      "Sentiment(polarity=0.0, subjectivity=0.0)\n",
      "RT @Rosie: trump is an abject failure #trumpdeathcount\n",
      "Sentiment(polarity=-0.3166666666666667, subjectivity=0.3)\n",
      "RT @HG_NYC: @jennyrachelpal @gtconway3d @realDonaldTrump Kills me that my tax dollars play these people, fund Trump golf trips at Trump hot…\n",
      "Sentiment(polarity=0.0, subjectivity=0.0)\n",
      "RT @SuckerCarlson: IVANKA: \"I pray for all the people my dad could not save from the Wuhan virus. He operated as many ventilators as he cou…\n",
      "Sentiment(polarity=0.5, subjectivity=0.5)\n",
      "RT @tomtomorrow: trump's narcissism is the greatest narcissism ever, his narcissism has killed almost 80K Americans, no one's ever seen nar…\n",
      "Sentiment(polarity=0.4, subjectivity=0.5)\n",
      "RT @EricMMatheny: The fraud is beginning.\n",
      "\n",
      "Gavin Newsom will be sending every CA voter an absentee ballot in November, asking them to mail…\n",
      "Sentiment(polarity=0.0, subjectivity=0.0)\n",
      "RT @JoeySalads: The Covid-19 crisis is just another opportunity for the Democrats to;\n",
      "\n",
      "-Attack Trump\n",
      "-Rig the Election\n",
      "-Destroy the Economy…\n",
      "Sentiment(polarity=-0.2, subjectivity=0.0)\n"
     ]
    }
   ],
   "source": [
    "for tweet in public_tweets:\n",
    "    print (tweet.text)\n",
    "    analysis=TextBlob(tweet.text)\n",
    "    print (analysis.sentiment)"
   ]
  },
  {
   "cell_type": "code",
   "execution_count": null,
   "metadata": {},
   "outputs": [],
   "source": []
  }
 ],
 "metadata": {
  "kernelspec": {
   "display_name": "Python 3 (ipykernel)",
   "language": "python",
   "name": "python3"
  },
  "language_info": {
   "codemirror_mode": {
    "name": "ipython",
    "version": 3
   },
   "file_extension": ".py",
   "mimetype": "text/x-python",
   "name": "python",
   "nbconvert_exporter": "python",
   "pygments_lexer": "ipython3",
   "version": "3.10.1"
  }
 },
 "nbformat": 4,
 "nbformat_minor": 2
}
