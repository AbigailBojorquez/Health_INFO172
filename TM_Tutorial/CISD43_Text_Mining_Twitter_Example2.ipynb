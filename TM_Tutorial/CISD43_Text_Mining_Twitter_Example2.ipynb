{
 "cells": [
  {
   "cell_type": "markdown",
   "metadata": {},
   "source": [
    "**Analyze Word Frequency Counts Using Twitter Data and Tweepy in Python**"
   ]
  },
  {
   "cell_type": "markdown",
   "metadata": {},
   "source": [
    "**Reference**\n",
    "- It is the example in this link just added more explanation\n",
    "- https://www.earthdatascience.org/courses/use-data-open-source-python/intro-to-apis/calculate-tweet-word-frequencies-in-python/"
   ]
  },
  {
   "cell_type": "markdown",
   "metadata": {},
   "source": [
    "**Example objectives:**\n",
    "\n",
    "- Take a set of tweets and clean them, in order to analyze the frequency of words found in the tweets. \n",
    "\n",
    "- Remove URLs from tweets.\n",
    "- Clean up tweet text, including differences in case (e.g. upper, lower) that will affect unique word counts and removing words that are not useful for the analysis.\n",
    "- Summarize and count words found in tweets."
   ]
  },
  {
   "cell_type": "markdown",
   "metadata": {},
   "source": [
    "**Get Tweets Related to Climate**\n",
    "- When you work with social media and other text data, the user community creates and curates the content. This means there are NO RULES! This also means that you may have to perform extra steps to clean the data to ensure you are analyzing the right thing.\n",
    "\n",
    "- Next, you will explore the text associated with a set of tweets that you access using Tweepy and the Twitter API. You will use some standard natural language processing (also known as text mining) approaches to do this."
   ]
  },
  {
   "cell_type": "code",
   "execution_count": 6,
   "metadata": {},
   "outputs": [],
   "source": [
    "#import os to deal with files on the operating system\n",
    "import os\n",
    "\n",
    "#import pandas to deal with dataframes and more\n",
    "import pandas as pd\n",
    "\n",
    "#import visualization libraries\n",
    "import matplotlib.pyplot as plt\n",
    "import seaborn as sns\n",
    "import itertools\n",
    "\n",
    "#import collections to deal with collections\n",
    "import collections\n",
    "\n",
    "#import tweepy to deal with the tweets\n",
    "import tweepy as tweepy\n",
    "\n",
    "#import nltk to deal with natural processing language\n",
    "#we will study that in details in our Natural Processing course in AI for Business certificate\n",
    "import nltk\n",
    "from nltk.corpus import stopwords\n",
    "import re\n",
    "import networkx\n",
    "\n",
    "#to filter warnings\n",
    "\n",
    "import warnings\n",
    "warnings.filterwarnings(\"ignore\")\n",
    "\n",
    "#setting some configurations for seaborn related plots\n",
    "#setting the background style and font scale \n",
    "#those are optional but makes the plots look nicer\n",
    "sns.set(font_scale=1.5)\n",
    "sns.set_style(\"whitegrid\")"
   ]
  },
  {
   "cell_type": "markdown",
   "metadata": {},
   "source": [
    "- The keys"
   ]
  },
  {
   "cell_type": "code",
   "execution_count": 7,
   "metadata": {},
   "outputs": [],
   "source": [
    "#include the keys that you need for the twitter application on \n",
    "#supllied for you as a twitter developer\n",
    "\n",
    "access_token = ''\n",
    "access_secret = ''\n",
    "consumer_key = ''\n",
    "consumer_secret = ''\n",
    "\n",
    "\n",
    "auth = tweepy.OAuthHandler(consumer_key, consumer_secret)\n",
    "auth.set_access_token(access_token, access_secret)\n",
    "\n",
    "#for more information on the tweepy.api refer to the following link\n",
    "#it discusses more all the argument and parameters required\n",
    "twitter_api = tweepy.API(auth, wait_on_rate_limit=True)"
   ]
  },
  {
   "cell_type": "code",
   "execution_count": 8,
   "metadata": {},
   "outputs": [
    {
     "data": {
      "text/plain": [
       "['What a pleasure to be contributing to this wonderful tea magazine 😊my article was about growing #tea in the face of… https://t.co/eDB1udZndS',\n",
       " 'YES! Why Investing in Women Helps Save the Planet\\nEducation, female empowerment, and #climate-smart solutions can s… https://t.co/mDvTBBQLSo',\n",
       " 'New study suggests governments and investors around the world should prioritize small-scale, low carbon technologie… https://t.co/ueFzcj8UAW',\n",
       " '@business Here we go again, all of a sudden #climate change has wedded #covid-19 , as if distracting us from callin… https://t.co/zMIc9B8lVP',\n",
       " 'Carbon Creed Issue 24 Thread: \\n\\n\"A symposium of thoughts on climate change\"\\n\\nThis week the New York Times published… https://t.co/tOi5ERxJG6']"
      ]
     },
     "execution_count": 8,
     "metadata": {},
     "output_type": "execute_result"
    }
   ],
   "source": [
    "search_term = \"#climate+change -filter:retweets\"\n",
    "\n",
    "tweets = tweepy.Cursor(twitter_api.search,\n",
    "                   q=search_term,\n",
    "                   lang=\"en\",\n",
    "                   since='2018-11-01').items(1000)\n",
    "\n",
    "all_tweets = [tweet.text for tweet in tweets]\n",
    "\n",
    "all_tweets[:5]"
   ]
  },
  {
   "cell_type": "markdown",
   "metadata": {},
   "source": [
    "**Remove URLs (links)**\n",
    "- The tweets above have some elements that you do not want in your word counts. For instance, URLs will not be analyzed in this lesson. You can remove URLs (links) using regular expressions accessed from the re package.\n",
    "\n",
    "- Re stands for regular expressions. Regular expressions are a special syntax that is used to identify patterns in a string.\n",
    "\n",
    "- While this lesson will not cover regular expressions, it is helpful to understand that this syntax below:\n",
    "\n",
    "- ([^0-9A-Za-z \\t])|(\\w+:\\/\\/\\S+)\n",
    "\n",
    "- Tells the search to find all strings that look like a URL, and replace it with nothing – \"\". \n",
    "- It also removes other punctionation including hashtags - #.\n",
    "\n",
    "- re.sub allows you to substitute a selection of characters defined using a regular expression, with something else.\n",
    "\n",
    "- In the function defined below, this line takes the text in each tweet and replaces the URL with \"\" (nothing): re.sub(\"([^0-9A-Za-z \\t])|(\\w+:\\/\\/\\S+)\", \"\", tweet"
   ]
  },
  {
   "cell_type": "code",
   "execution_count": 9,
   "metadata": {},
   "outputs": [],
   "source": [
    "def remove_url(txt):\n",
    "    \"\"\"Replace URLs found in a text string with nothing \n",
    "    (i.e. it will remove the URL from the string).\n",
    "\n",
    "    Parameters\n",
    "    ----------\n",
    "    txt : string\n",
    "        A text string that you want to parse and remove urls.\n",
    "\n",
    "    Returns\n",
    "    -------\n",
    "    The same txt string with url's removed.\n",
    "    \"\"\"\n",
    "\n",
    "    return \" \".join(re.sub(\"([^0-9A-Za-z \\t])|(\\w+:\\/\\/\\S+)\", \"\", txt).split())"
   ]
  },
  {
   "cell_type": "markdown",
   "metadata": {},
   "source": [
    "- After defining the function, you can call it in a list comprehension to create a list of the clean tweets."
   ]
  },
  {
   "cell_type": "code",
   "execution_count": 10,
   "metadata": {},
   "outputs": [
    {
     "data": {
      "text/plain": [
       "['What a pleasure to be contributing to this wonderful tea magazine my article was about growing tea in the face of',\n",
       " 'YES Why Investing in Women Helps Save the PlanetEducation female empowerment and climatesmart solutions can s',\n",
       " 'New study suggests governments and investors around the world should prioritize smallscale low carbon technologie',\n",
       " 'business Here we go again all of a sudden climate change has wedded covid19 as if distracting us from callin',\n",
       " 'Carbon Creed Issue 24 Thread A symposium of thoughts on climate changeThis week the New York Times published']"
      ]
     },
     "execution_count": 10,
     "metadata": {},
     "output_type": "execute_result"
    }
   ],
   "source": [
    "all_tweets_no_urls = [remove_url(tweet) for tweet in all_tweets]\n",
    "all_tweets_no_urls[:5]"
   ]
  },
  {
   "cell_type": "markdown",
   "metadata": {},
   "source": [
    "**Text Cleanup - Address Case Issues**\n",
    "- Capitalization is also a challenge when analyzing text data. If you are trying to create a list of unique words in your tweets, words with capitalization will be different from words that are all lowercase."
   ]
  },
  {
   "cell_type": "code",
   "execution_count": 11,
   "metadata": {},
   "outputs": [
    {
     "data": {
      "text/plain": [
       "{',', 'Dog', 'cat', 'dog'}"
      ]
     },
     "execution_count": 11,
     "metadata": {},
     "output_type": "execute_result"
    }
   ],
   "source": [
    "# Note how capitalization impacts unique returned values\n",
    "ex_list = [\"Dog\", \"dog\", \"dog\", \"cat\", \"cat\", \",\"]\n",
    "\n",
    "# Get unique elements in the list\n",
    "set(ex_list)\n",
    "{',', 'Dog', 'cat', 'dog'}"
   ]
  },
  {
   "cell_type": "markdown",
   "metadata": {},
   "source": [
    "- To account for this, you can make each word lowercase using the string method .lower(). In the code below, this method is applied using a list comprehension."
   ]
  },
  {
   "cell_type": "code",
   "execution_count": 13,
   "metadata": {},
   "outputs": [
    {
     "data": {
      "text/plain": [
       "['dog', 'dog', 'dog', 'cat', 'cat', ',']"
      ]
     },
     "execution_count": 13,
     "metadata": {},
     "output_type": "execute_result"
    }
   ],
   "source": [
    "# Note how capitalization impacts unique returned values\n",
    "words_list = [\"Dog\", \"dog\", \"dog\", \"cat\", \"cat\", \",\"]\n",
    "\n",
    "# Make all elements in the list lowercase\n",
    "lower_case = [word.lower() for word in words_list]\n",
    "\n",
    "# Get all elements in the list\n",
    "lower_case\n"
   ]
  },
  {
   "cell_type": "markdown",
   "metadata": {},
   "source": [
    "- Now all of the words in your list are lowercase. You can again use set() function to return only unique words."
   ]
  },
  {
   "cell_type": "code",
   "execution_count": 14,
   "metadata": {},
   "outputs": [
    {
     "data": {
      "text/plain": [
       "{',', 'cat', 'dog'}"
      ]
     },
     "execution_count": 14,
     "metadata": {},
     "output_type": "execute_result"
    }
   ],
   "source": [
    "# Now you have only unique words\n",
    "set(lower_case)"
   ]
  },
  {
   "cell_type": "markdown",
   "metadata": {},
   "source": [
    "**Create List of Lower Case Words from Tweets**"
   ]
  },
  {
   "cell_type": "markdown",
   "metadata": {},
   "source": [
    "- Right now, you have a list of lists that contains each full tweet and you know how to lowercase the words.\n",
    "\n",
    "- However, to do a word frequency analysis, you need a list of all of the words associated with each tweet. You can use .split() to split out each word into a unique element in a list, as shown below."
   ]
  },
  {
   "cell_type": "code",
   "execution_count": 15,
   "metadata": {},
   "outputs": [
    {
     "data": {
      "text/plain": [
       "['What',\n",
       " 'a',\n",
       " 'pleasure',\n",
       " 'to',\n",
       " 'be',\n",
       " 'contributing',\n",
       " 'to',\n",
       " 'this',\n",
       " 'wonderful',\n",
       " 'tea',\n",
       " 'magazine',\n",
       " 'my',\n",
       " 'article',\n",
       " 'was',\n",
       " 'about',\n",
       " 'growing',\n",
       " 'tea',\n",
       " 'in',\n",
       " 'the',\n",
       " 'face',\n",
       " 'of']"
      ]
     },
     "execution_count": 15,
     "metadata": {},
     "output_type": "execute_result"
    }
   ],
   "source": [
    "# Split the words from one tweet into unique elements\n",
    "all_tweets_no_urls[0].split()"
   ]
  },
  {
   "cell_type": "markdown",
   "metadata": {},
   "source": [
    "- Of course, you will notice above that you have a capital word in your list of words.\n",
    "\n",
    "- You can combine .lower() with .split() to remove capital letters and split up the tweet in one step. \n",
    "- Below is an example of applying these methods to the first tweet in the list."
   ]
  },
  {
   "cell_type": "code",
   "execution_count": 16,
   "metadata": {},
   "outputs": [
    {
     "data": {
      "text/plain": [
       "['what',\n",
       " 'a',\n",
       " 'pleasure',\n",
       " 'to',\n",
       " 'be',\n",
       " 'contributing',\n",
       " 'to',\n",
       " 'this',\n",
       " 'wonderful',\n",
       " 'tea',\n",
       " 'magazine',\n",
       " 'my',\n",
       " 'article',\n",
       " 'was',\n",
       " 'about',\n",
       " 'growing',\n",
       " 'tea',\n",
       " 'in',\n",
       " 'the',\n",
       " 'face',\n",
       " 'of']"
      ]
     },
     "execution_count": 16,
     "metadata": {},
     "output_type": "execute_result"
    }
   ],
   "source": [
    "# Split the words from one tweet into unique elements\n",
    "all_tweets_no_urls[0].lower().split()"
   ]
  },
  {
   "cell_type": "markdown",
   "metadata": {},
   "source": [
    "- To split and lower case words in all of the tweets, you can string both methods .lower() and .split() together in a list comprehension."
   ]
  },
  {
   "cell_type": "code",
   "execution_count": 17,
   "metadata": {},
   "outputs": [
    {
     "data": {
      "text/plain": [
       "[['what',\n",
       "  'a',\n",
       "  'pleasure',\n",
       "  'to',\n",
       "  'be',\n",
       "  'contributing',\n",
       "  'to',\n",
       "  'this',\n",
       "  'wonderful',\n",
       "  'tea',\n",
       "  'magazine',\n",
       "  'my',\n",
       "  'article',\n",
       "  'was',\n",
       "  'about',\n",
       "  'growing',\n",
       "  'tea',\n",
       "  'in',\n",
       "  'the',\n",
       "  'face',\n",
       "  'of'],\n",
       " ['yes',\n",
       "  'why',\n",
       "  'investing',\n",
       "  'in',\n",
       "  'women',\n",
       "  'helps',\n",
       "  'save',\n",
       "  'the',\n",
       "  'planeteducation',\n",
       "  'female',\n",
       "  'empowerment',\n",
       "  'and',\n",
       "  'climatesmart',\n",
       "  'solutions',\n",
       "  'can',\n",
       "  's']]"
      ]
     },
     "execution_count": 17,
     "metadata": {},
     "output_type": "execute_result"
    }
   ],
   "source": [
    "# Create a list of lists containing lowercase words for each tweet\n",
    "words_in_tweet = [tweet.lower().split() for tweet in all_tweets_no_urls]\n",
    "words_in_tweet[:2]"
   ]
  },
  {
   "cell_type": "markdown",
   "metadata": {},
   "source": [
    "**Calculate and Plot Word Frequency**\n",
    "\n",
    "- To get the count of how many times each word appears in the sample, you can use the built-in Python library collections, which helps create a special type of a Python dictonary.\n",
    "- The collection.Counter object has a useful built-in method most_common that will return the most commonly used words and the number of times that they are used.\n",
    "\n",
    "- To begin, flatten your list, so that all words across the tweets are in one list. Note that you could flatten your list with another list comprehension like this: all_words = [item for sublist in tweets_nsw for item in sublist]\n",
    "\n",
    "- However, it is actually faster to use itertools to flatten the list as follows."
   ]
  },
  {
   "cell_type": "code",
   "execution_count": 18,
   "metadata": {},
   "outputs": [
    {
     "data": {
      "text/plain": [
       "[('climate', 758),\n",
       " ('the', 732),\n",
       " ('change', 559),\n",
       " ('to', 467),\n",
       " ('of', 367),\n",
       " ('and', 330),\n",
       " ('a', 249),\n",
       " ('is', 246),\n",
       " ('in', 236),\n",
       " ('on', 179),\n",
       " ('we', 157),\n",
       " ('for', 138),\n",
       " ('climatechange', 110),\n",
       " ('are', 105),\n",
       " ('that', 96)]"
      ]
     },
     "execution_count": 18,
     "metadata": {},
     "output_type": "execute_result"
    }
   ],
   "source": [
    "# List of all words across tweets\n",
    "all_words_no_urls = list(itertools.chain(*words_in_tweet))\n",
    "\n",
    "# Create counter\n",
    "counts_no_urls = collections.Counter(all_words_no_urls)\n",
    "\n",
    "counts_no_urls.most_common(15)"
   ]
  },
  {
   "cell_type": "markdown",
   "metadata": {},
   "source": [
    "- Based on the counter, you can create a Pandas Dataframe for analysis and plotting that includes only the top 15 most common words."
   ]
  },
  {
   "cell_type": "code",
   "execution_count": 19,
   "metadata": {},
   "outputs": [
    {
     "data": {
      "text/html": [
       "<div>\n",
       "<style scoped>\n",
       "    .dataframe tbody tr th:only-of-type {\n",
       "        vertical-align: middle;\n",
       "    }\n",
       "\n",
       "    .dataframe tbody tr th {\n",
       "        vertical-align: top;\n",
       "    }\n",
       "\n",
       "    .dataframe thead th {\n",
       "        text-align: right;\n",
       "    }\n",
       "</style>\n",
       "<table border=\"1\" class=\"dataframe\">\n",
       "  <thead>\n",
       "    <tr style=\"text-align: right;\">\n",
       "      <th></th>\n",
       "      <th>words</th>\n",
       "      <th>count</th>\n",
       "    </tr>\n",
       "  </thead>\n",
       "  <tbody>\n",
       "    <tr>\n",
       "      <td>0</td>\n",
       "      <td>climate</td>\n",
       "      <td>758</td>\n",
       "    </tr>\n",
       "    <tr>\n",
       "      <td>1</td>\n",
       "      <td>the</td>\n",
       "      <td>732</td>\n",
       "    </tr>\n",
       "    <tr>\n",
       "      <td>2</td>\n",
       "      <td>change</td>\n",
       "      <td>559</td>\n",
       "    </tr>\n",
       "    <tr>\n",
       "      <td>3</td>\n",
       "      <td>to</td>\n",
       "      <td>467</td>\n",
       "    </tr>\n",
       "    <tr>\n",
       "      <td>4</td>\n",
       "      <td>of</td>\n",
       "      <td>367</td>\n",
       "    </tr>\n",
       "  </tbody>\n",
       "</table>\n",
       "</div>"
      ],
      "text/plain": [
       "     words  count\n",
       "0  climate    758\n",
       "1      the    732\n",
       "2   change    559\n",
       "3       to    467\n",
       "4       of    367"
      ]
     },
     "execution_count": 19,
     "metadata": {},
     "output_type": "execute_result"
    }
   ],
   "source": [
    "clean_tweets_no_urls = pd.DataFrame(counts_no_urls.most_common(15),\n",
    "                             columns=['words', 'count'])\n",
    "\n",
    "clean_tweets_no_urls.head()"
   ]
  },
  {
   "cell_type": "markdown",
   "metadata": {},
   "source": [
    "- Using this Pandas Dataframe, you can create a horizontal bar graph of the top 15 most common words in the tweets as shown below."
   ]
  },
  {
   "cell_type": "code",
   "execution_count": 20,
   "metadata": {},
   "outputs": [
    {
     "data": {
      "image/png": "[encoded data removed]",
      "text/plain": [
       "<Figure size 576x576 with 1 Axes>"
      ]
     },
     "metadata": {},
     "output_type": "display_data"
    }
   ],
   "source": [
    "fig, ax = plt.subplots(figsize=(8, 8))\n",
    "\n",
    "# Plot horizontal bar graph\n",
    "clean_tweets_no_urls.sort_values(by='count').plot.barh(x='words',\n",
    "                      y='count',\n",
    "                      ax=ax,\n",
    "                      color=\"purple\")\n",
    "\n",
    "ax.set_title(\"Common Words Found in Tweets (Including All Words)\")\n",
    "\n",
    "plt.show()"
   ]
  },
  {
   "cell_type": "markdown",
   "metadata": {},
   "source": [
    "**Remove Stopwords With nltk**\n",
    "\n",
    "- In addition to lowercase words, you may also want to perform additional clean-up, such as removing words that do not add meaningful information to the text you are trying to analysis. \n",
    "- These words referred to as “stop words” and include commonly appearing words such as who, what, you, etc.\n",
    "\n",
    "- The Python package nltk, commonly used for text analysis, provides a list of “stop words” that you can use to clean your Twitter data."
   ]
  },
  {
   "cell_type": "code",
   "execution_count": 21,
   "metadata": {},
   "outputs": [
    {
     "name": "stderr",
     "output_type": "stream",
     "text": [
      "[nltk_data] Downloading package stopwords to\n",
      "[nltk_data]     C:\\Users\\szaki5\\AppData\\Roaming\\nltk_data...\n",
      "[nltk_data]   Unzipping corpora\\stopwords.zip.\n"
     ]
    },
    {
     "data": {
      "text/plain": [
       "True"
      ]
     },
     "execution_count": 21,
     "metadata": {},
     "output_type": "execute_result"
    }
   ],
   "source": [
    "nltk.download('stopwords')"
   ]
  },
  {
   "cell_type": "code",
   "execution_count": 23,
   "metadata": {},
   "outputs": [
    {
     "data": {
      "text/plain": [
       "['what',\n",
       " \"aren't\",\n",
       " 'while',\n",
       " \"mustn't\",\n",
       " 'wouldn',\n",
       " 'has',\n",
       " 'should',\n",
       " 'that',\n",
       " 'my',\n",
       " \"you'd\"]"
      ]
     },
     "execution_count": 23,
     "metadata": {},
     "output_type": "execute_result"
    }
   ],
   "source": [
    "stop_words = set(stopwords.words('english'))\n",
    "\n",
    "# View a few words from the set\n",
    "list(stop_words)[0:10]"
   ]
  },
  {
   "cell_type": "markdown",
   "metadata": {},
   "source": [
    "- Notice that the stop words provided by nltk are all lower-case. This works well given you already have converted all of your tweet words to lower case using the Python string method .lower().\n",
    "\n",
    "- Next, you will remove all stop words from each tweet. First, have a look at the words in the first tweet below."
   ]
  },
  {
   "cell_type": "code",
   "execution_count": 24,
   "metadata": {},
   "outputs": [
    {
     "data": {
      "text/plain": [
       "['what',\n",
       " 'a',\n",
       " 'pleasure',\n",
       " 'to',\n",
       " 'be',\n",
       " 'contributing',\n",
       " 'to',\n",
       " 'this',\n",
       " 'wonderful',\n",
       " 'tea',\n",
       " 'magazine',\n",
       " 'my',\n",
       " 'article',\n",
       " 'was',\n",
       " 'about',\n",
       " 'growing',\n",
       " 'tea',\n",
       " 'in',\n",
       " 'the',\n",
       " 'face',\n",
       " 'of']"
      ]
     },
     "execution_count": 24,
     "metadata": {},
     "output_type": "execute_result"
    }
   ],
   "source": [
    "words_in_tweet[0]"
   ]
  },
  {
   "cell_type": "markdown",
   "metadata": {},
   "source": [
    "- Below, you remove all of the stop words in each tweet. \n",
    "- The list comprehension below might look confusing as it is nested. \n",
    "- The list comprehension below is the same as calling:\n",
    "\n",
    "for all_words in words_in_tweet:\n",
    "\n",
    "    for  word in all_words:\n",
    "        #remove stop words"
   ]
  },
  {
   "cell_type": "markdown",
   "metadata": {},
   "source": [
    "- Now, compare the words in the original tweet to the words in the tweet after the stop words are removed:"
   ]
  },
  {
   "cell_type": "code",
   "execution_count": 27,
   "metadata": {},
   "outputs": [
    {
     "data": {
      "text/plain": [
       "['pleasure',\n",
       " 'contributing',\n",
       " 'wonderful',\n",
       " 'tea',\n",
       " 'magazine',\n",
       " 'article',\n",
       " 'growing',\n",
       " 'tea',\n",
       " 'face']"
      ]
     },
     "execution_count": 27,
     "metadata": {},
     "output_type": "execute_result"
    }
   ],
   "source": [
    "# Remove stop words from each tweet list of words\n",
    "tweets_nsw = [[word for word in tweet_words if not word in stop_words]\n",
    "              for tweet_words in words_in_tweet]\n",
    "\n",
    "tweets_nsw[0]"
   ]
  },
  {
   "cell_type": "markdown",
   "metadata": {},
   "source": [
    "- Again, you can flatten your list and create a counter to return the most commonly used words and the number of times that they are used."
   ]
  },
  {
   "cell_type": "code",
   "execution_count": 28,
   "metadata": {},
   "outputs": [
    {
     "data": {
      "text/plain": [
       "[('climate', 758),\n",
       " ('change', 559),\n",
       " ('climatechange', 110),\n",
       " ('amp', 78),\n",
       " ('covid19', 69),\n",
       " ('coronavirus', 65),\n",
       " ('world', 52),\n",
       " ('global', 52),\n",
       " ('earthday', 52),\n",
       " ('earth', 51),\n",
       " ('pandemic', 50),\n",
       " ('podcast', 49),\n",
       " ('us', 48),\n",
       " ('day', 46),\n",
       " ('new', 45)]"
      ]
     },
     "execution_count": 28,
     "metadata": {},
     "output_type": "execute_result"
    }
   ],
   "source": [
    "all_words_nsw = list(itertools.chain(*tweets_nsw))\n",
    "\n",
    "counts_nsw = collections.Counter(all_words_nsw)\n",
    "\n",
    "counts_nsw.most_common(15)"
   ]
  },
  {
   "cell_type": "markdown",
   "metadata": {},
   "source": [
    "Then, you can create the Pandas Dataframe and plot the word frequencies without the stop words."
   ]
  },
  {
   "cell_type": "code",
   "execution_count": 29,
   "metadata": {},
   "outputs": [
    {
     "data": {
      "image/png": "[encoded data removed]",
      "text/plain": [
       "<Figure size 576x576 with 1 Axes>"
      ]
     },
     "metadata": {},
     "output_type": "display_data"
    }
   ],
   "source": [
    "clean_tweets_nsw = pd.DataFrame(counts_nsw.most_common(15),\n",
    "                             columns=['words', 'count'])\n",
    "\n",
    "fig, ax = plt.subplots(figsize=(8, 8))\n",
    "\n",
    "# Plot horizontal bar graph\n",
    "clean_tweets_nsw.sort_values(by='count').plot.barh(x='words',\n",
    "                      y='count',\n",
    "                      ax=ax,\n",
    "                      color=\"purple\")\n",
    "\n",
    "ax.set_title(\"Common Words Found in Tweets (Without Stop Words)\")\n",
    "\n",
    "plt.show()"
   ]
  },
  {
   "cell_type": "markdown",
   "metadata": {},
   "source": [
    "**Remove Collection Words**"
   ]
  },
  {
   "cell_type": "markdown",
   "metadata": {},
   "source": [
    "- In additional to removing stopwords, it is common to also remove collection words. Collection words are the words that you used to query your data from Twitter.\n",
    "\n",
    "- In this case, you used “climate change” as a collection term. Thus, you can expect that these terms will be found in each tweet. This could skew your word frequency analysis.\n",
    "\n",
    "- Below you remove the collection words - climate, change, and climatechange - from the tweets through list comprehension"
   ]
  },
  {
   "cell_type": "code",
   "execution_count": 30,
   "metadata": {},
   "outputs": [],
   "source": [
    "collection_words = ['climatechange', 'climate', 'change']\n",
    "tweets_nsw_nc = [[w for w in word if not w in collection_words]\n",
    "                 for word in tweets_nsw]"
   ]
  },
  {
   "cell_type": "markdown",
   "metadata": {},
   "source": [
    "- Compare the words in first tweet with and without the collection words."
   ]
  },
  {
   "cell_type": "code",
   "execution_count": 31,
   "metadata": {},
   "outputs": [
    {
     "data": {
      "text/plain": [
       "['pleasure',\n",
       " 'contributing',\n",
       " 'wonderful',\n",
       " 'tea',\n",
       " 'magazine',\n",
       " 'article',\n",
       " 'growing',\n",
       " 'tea',\n",
       " 'face']"
      ]
     },
     "execution_count": 31,
     "metadata": {},
     "output_type": "execute_result"
    }
   ],
   "source": [
    "tweets_nsw[0]"
   ]
  },
  {
   "cell_type": "code",
   "execution_count": 32,
   "metadata": {},
   "outputs": [
    {
     "data": {
      "text/plain": [
       "['pleasure',\n",
       " 'contributing',\n",
       " 'wonderful',\n",
       " 'tea',\n",
       " 'magazine',\n",
       " 'article',\n",
       " 'growing',\n",
       " 'tea',\n",
       " 'face']"
      ]
     },
     "execution_count": 32,
     "metadata": {},
     "output_type": "execute_result"
    }
   ],
   "source": [
    "tweets_nsw_nc[0]"
   ]
  },
  {
   "cell_type": "markdown",
   "metadata": {},
   "source": [
    "**Calculate and Plot Word Frequency of Clean Tweets**"
   ]
  },
  {
   "cell_type": "markdown",
   "metadata": {},
   "source": [
    "- Now that you have cleaned up your data, you are ready to calculate and plot the final word frequency results.\n",
    "\n",
    "- Using the skills you have learned, you can flatten the list and create the counter for the words in the tweets."
   ]
  },
  {
   "cell_type": "code",
   "execution_count": 34,
   "metadata": {},
   "outputs": [
    {
     "data": {
      "text/plain": [
       "[('amp', 78),\n",
       " ('covid19', 69),\n",
       " ('coronavirus', 65),\n",
       " ('world', 52),\n",
       " ('global', 52),\n",
       " ('earthday', 52),\n",
       " ('earth', 51),\n",
       " ('pandemic', 50),\n",
       " ('podcast', 49),\n",
       " ('us', 48),\n",
       " ('day', 46),\n",
       " ('new', 45),\n",
       " ('science', 41),\n",
       " ('environment', 38),\n",
       " ('crisis', 35)]"
      ]
     },
     "execution_count": 34,
     "metadata": {},
     "output_type": "execute_result"
    }
   ],
   "source": [
    "# Flatten list of words in clean tweets\n",
    "all_words_nsw_nc = list(itertools.chain(*tweets_nsw_nc))\n",
    "\n",
    "# Create counter of words in clean tweets\n",
    "counts_nsw_nc = collections.Counter(all_words_nsw_nc)\n",
    "\n",
    "counts_nsw_nc.most_common(15)"
   ]
  },
  {
   "cell_type": "markdown",
   "metadata": {},
   "source": [
    "- To find out the number of unique words across all of the tweets, you can take the len() of the object counts that you just created."
   ]
  },
  {
   "cell_type": "code",
   "execution_count": 35,
   "metadata": {},
   "outputs": [
    {
     "data": {
      "text/plain": [
       "3744"
      ]
     },
     "execution_count": 35,
     "metadata": {},
     "output_type": "execute_result"
    }
   ],
   "source": [
    "len(counts_nsw_nc)"
   ]
  },
  {
   "cell_type": "markdown",
   "metadata": {},
   "source": [
    "- Last, you can create the Pandas Dataframe of the words and their counts and plot the top 15 most common words from the clean tweets (i.e. no URLs, stop words, or collection words)."
   ]
  },
  {
   "cell_type": "code",
   "execution_count": 36,
   "metadata": {},
   "outputs": [
    {
     "data": {
      "text/html": [
       "<div>\n",
       "<style scoped>\n",
       "    .dataframe tbody tr th:only-of-type {\n",
       "        vertical-align: middle;\n",
       "    }\n",
       "\n",
       "    .dataframe tbody tr th {\n",
       "        vertical-align: top;\n",
       "    }\n",
       "\n",
       "    .dataframe thead th {\n",
       "        text-align: right;\n",
       "    }\n",
       "</style>\n",
       "<table border=\"1\" class=\"dataframe\">\n",
       "  <thead>\n",
       "    <tr style=\"text-align: right;\">\n",
       "      <th></th>\n",
       "      <th>words</th>\n",
       "      <th>count</th>\n",
       "    </tr>\n",
       "  </thead>\n",
       "  <tbody>\n",
       "    <tr>\n",
       "      <td>0</td>\n",
       "      <td>amp</td>\n",
       "      <td>78</td>\n",
       "    </tr>\n",
       "    <tr>\n",
       "      <td>1</td>\n",
       "      <td>covid19</td>\n",
       "      <td>69</td>\n",
       "    </tr>\n",
       "    <tr>\n",
       "      <td>2</td>\n",
       "      <td>coronavirus</td>\n",
       "      <td>65</td>\n",
       "    </tr>\n",
       "    <tr>\n",
       "      <td>3</td>\n",
       "      <td>world</td>\n",
       "      <td>52</td>\n",
       "    </tr>\n",
       "    <tr>\n",
       "      <td>4</td>\n",
       "      <td>global</td>\n",
       "      <td>52</td>\n",
       "    </tr>\n",
       "  </tbody>\n",
       "</table>\n",
       "</div>"
      ],
      "text/plain": [
       "         words  count\n",
       "0          amp     78\n",
       "1      covid19     69\n",
       "2  coronavirus     65\n",
       "3        world     52\n",
       "4       global     52"
      ]
     },
     "execution_count": 36,
     "metadata": {},
     "output_type": "execute_result"
    }
   ],
   "source": [
    "clean_tweets_ncw = pd.DataFrame(counts_nsw_nc.most_common(15),\n",
    "                             columns=['words', 'count'])\n",
    "clean_tweets_ncw.head()"
   ]
  },
  {
   "cell_type": "code",
   "execution_count": 37,
   "metadata": {},
   "outputs": [
    {
     "data": {
      "image/png": "[encoded data removed]",
      "text/plain": [
       "<Figure size 576x576 with 1 Axes>"
      ]
     },
     "metadata": {},
     "output_type": "display_data"
    }
   ],
   "source": [
    "fig, ax = plt.subplots(figsize=(8, 8))\n",
    "\n",
    "# Plot horizontal bar graph\n",
    "clean_tweets_ncw.sort_values(by='count').plot.barh(x='words',\n",
    "                      y='count',\n",
    "                      ax=ax,\n",
    "                      color=\"purple\")\n",
    "\n",
    "ax.set_title(\"Common Words Found in Tweets (Without Stop or Collection Words)\")\n",
    "\n",
    "plt.show()"
   ]
  },
  {
   "cell_type": "code",
   "execution_count": null,
   "metadata": {},
   "outputs": [],
   "source": []
  }
 ],
 "metadata": {
  "kernelspec": {
   "display_name": "Python 3",
   "language": "python",
   "name": "python3"
  },
  "language_info": {
   "codemirror_mode": {
    "name": "ipython",
    "version": 3
   },
   "file_extension": ".py",
   "mimetype": "text/x-python",
   "name": "python",
   "nbconvert_exporter": "python",
   "pygments_lexer": "ipython3",
   "version": "3.8.5"
  }
 },
 "nbformat": 4,
 "nbformat_minor": 2
}
