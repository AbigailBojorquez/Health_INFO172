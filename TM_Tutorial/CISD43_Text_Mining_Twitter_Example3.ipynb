{
 "cells": [
  {
   "cell_type": "markdown",
   "metadata": {},
   "source": [
    "**Example from**\n",
    "- https://github.com/RodolfoFerro/pandas_twitter/blob/master/01-extracting-data.md\n",
    " **Added some notes and explanation**"
   ]
  },
  {
   "cell_type": "markdown",
   "metadata": {},
   "source": [
    "**Extracting twitter data (tweepy + pandas)**"
   ]
  },
  {
   "cell_type": "code",
   "execution_count": 1,
   "metadata": {},
   "outputs": [],
   "source": [
    "# General:\n",
    "import tweepy           # To consume Twitter's API\n",
    "import pandas as pd     # To handle data\n",
    "import numpy as np      # For number computing\n",
    "\n",
    "# For plotting and visualization:\n",
    "from IPython.display import display\n",
    "import matplotlib.pyplot as plt\n",
    "import seaborn as sns\n",
    "%matplotlib inline"
   ]
  },
  {
   "cell_type": "code",
   "execution_count": 3,
   "metadata": {},
   "outputs": [],
   "source": [
    "# Twitter App access keys for @user\n",
    "#required keys and tokens\n",
    "\n",
    "ACCESS_TOKEN = ''\n",
    "ACCESS_SECRET = ''\n",
    "CONSUMER_KEY = ''\n",
    "CONSUMER_SECRET = ''\n"
   ]
  },
  {
   "cell_type": "code",
   "execution_count": 5,
   "metadata": {},
   "outputs": [],
   "source": [
    "# We import our access keys:\n",
    "\n",
    "\n",
    "# API's setup:\n",
    "def twitter_setup():\n",
    "    \"\"\"\n",
    "    Utility function to setup the Twitter's API\n",
    "    with our access keys provided.\n",
    "    \"\"\"\n",
    "    # Authentication and access using keys:\n",
    "    auth = tweepy.OAuthHandler(CONSUMER_KEY, CONSUMER_SECRET)\n",
    "    auth.set_access_token(ACCESS_TOKEN, ACCESS_SECRET)\n",
    "\n",
    "    # Return API with authentication:\n",
    "    api = tweepy.API(auth)\n",
    "    return api"
   ]
  },
  {
   "cell_type": "markdown",
   "metadata": {},
   "source": [
    "**Tweets Extraction**"
   ]
  },
  {
   "cell_type": "code",
   "execution_count": 6,
   "metadata": {},
   "outputs": [
    {
     "name": "stdout",
     "output_type": "stream",
     "text": [
      "Number of tweets extracted: 200.\n",
      "\n",
      "5 recent tweets:\n",
      "\n",
      "RT @MeatInstitute: \"We are grateful to @realDonaldTrump for protecting our nation’s food supply,\" said @MeatInstitute Pres. &amp; CEO Julie Ann…\n",
      "\n",
      "No, I think Amash would make a wonderful candidate, especially since he is way behind in his district and has no ch… https://t.co/RMbhUCax4n\n",
      "\n",
      "THANK YOU @MarkLevinShow! \n",
      "https://t.co/GJSNM0LUQH\n",
      "\n",
      "RT @TrumpWarRoom: Yahoo reporter apologizes to President Trump after making false coronavirus test claim in Oval Office meeting \n",
      "https://t.…\n",
      "\n",
      "At least they admit it. The Failing @nytimes &amp; @washingtonpost never correct their Fake Reporting! https://t.co/3aUKA4826K\n",
      "\n"
     ]
    }
   ],
   "source": [
    "# We create an extractor object:\n",
    "extractor = twitter_setup()\n",
    "\n",
    "# We create a tweet list as follows:\n",
    "tweets = extractor.user_timeline(screen_name=\"realDonaldTrump\", count=200)\n",
    "print(\"Number of tweets extracted: {}.\\n\".format(len(tweets)))\n",
    "\n",
    "# We print the most recent 5 tweets:\n",
    "print(\"5 recent tweets:\\n\")\n",
    "for tweet in tweets[:5]:\n",
    "    print(tweet.text)\n",
    "    print()"
   ]
  },
  {
   "cell_type": "markdown",
   "metadata": {},
   "source": [
    "**Creating a (pandas) DataFrame**"
   ]
  },
  {
   "cell_type": "code",
   "execution_count": 7,
   "metadata": {},
   "outputs": [
    {
     "data": {
      "text/html": [
       "<div>\n",
       "<style scoped>\n",
       "    .dataframe tbody tr th:only-of-type {\n",
       "        vertical-align: middle;\n",
       "    }\n",
       "\n",
       "    .dataframe tbody tr th {\n",
       "        vertical-align: top;\n",
       "    }\n",
       "\n",
       "    .dataframe thead th {\n",
       "        text-align: right;\n",
       "    }\n",
       "</style>\n",
       "<table border=\"1\" class=\"dataframe\">\n",
       "  <thead>\n",
       "    <tr style=\"text-align: right;\">\n",
       "      <th></th>\n",
       "      <th>Tweets</th>\n",
       "    </tr>\n",
       "  </thead>\n",
       "  <tbody>\n",
       "    <tr>\n",
       "      <td>0</td>\n",
       "      <td>RT @MeatInstitute: \"We are grateful to @realDo...</td>\n",
       "    </tr>\n",
       "    <tr>\n",
       "      <td>1</td>\n",
       "      <td>No, I think Amash would make a wonderful candi...</td>\n",
       "    </tr>\n",
       "    <tr>\n",
       "      <td>2</td>\n",
       "      <td>THANK YOU @MarkLevinShow! \\nhttps://t.co/GJSNM...</td>\n",
       "    </tr>\n",
       "    <tr>\n",
       "      <td>3</td>\n",
       "      <td>RT @TrumpWarRoom: Yahoo reporter apologizes to...</td>\n",
       "    </tr>\n",
       "    <tr>\n",
       "      <td>4</td>\n",
       "      <td>At least they admit it. The Failing @nytimes &amp;...</td>\n",
       "    </tr>\n",
       "    <tr>\n",
       "      <td>5</td>\n",
       "      <td>RT @ErinMPerrine: 🚨🚨 TUNE IN NOW 🚨🚨\\n\\nTonight...</td>\n",
       "    </tr>\n",
       "    <tr>\n",
       "      <td>6</td>\n",
       "      <td>RT @TeamTrump: WATCH: Team Trump Online with @...</td>\n",
       "    </tr>\n",
       "    <tr>\n",
       "      <td>7</td>\n",
       "      <td>RT @TeamTrump: Tisa Clark, CEO Of J.D. Clark P...</td>\n",
       "    </tr>\n",
       "    <tr>\n",
       "      <td>8</td>\n",
       "      <td>RT @EquipoTrump: As Trump campaign senior advi...</td>\n",
       "    </tr>\n",
       "    <tr>\n",
       "      <td>9</td>\n",
       "      <td>RT @TrumpWarRoom: Joe Biden rambles and strugg...</td>\n",
       "    </tr>\n",
       "  </tbody>\n",
       "</table>\n",
       "</div>"
      ],
      "text/plain": [
       "                                              Tweets\n",
       "0  RT @MeatInstitute: \"We are grateful to @realDo...\n",
       "1  No, I think Amash would make a wonderful candi...\n",
       "2  THANK YOU @MarkLevinShow! \\nhttps://t.co/GJSNM...\n",
       "3  RT @TrumpWarRoom: Yahoo reporter apologizes to...\n",
       "4  At least they admit it. The Failing @nytimes &...\n",
       "5  RT @ErinMPerrine: 🚨🚨 TUNE IN NOW 🚨🚨\\n\\nTonight...\n",
       "6  RT @TeamTrump: WATCH: Team Trump Online with @...\n",
       "7  RT @TeamTrump: Tisa Clark, CEO Of J.D. Clark P...\n",
       "8  RT @EquipoTrump: As Trump campaign senior advi...\n",
       "9  RT @TrumpWarRoom: Joe Biden rambles and strugg..."
      ]
     },
     "metadata": {},
     "output_type": "display_data"
    }
   ],
   "source": [
    "# We create a pandas dataframe as follows:\n",
    "data = pd.DataFrame(data=[tweet.text for tweet in tweets], columns=['Tweets'])\n",
    "\n",
    "# We display the first 10 elements of the dataframe:\n",
    "display(data.head(10))"
   ]
  },
  {
   "cell_type": "code",
   "execution_count": 8,
   "metadata": {},
   "outputs": [
    {
     "name": "stdout",
     "output_type": "stream",
     "text": [
      "['__class__', '__delattr__', '__dict__', '__dir__', '__doc__', '__eq__', '__format__', '__ge__', '__getattribute__', '__getstate__', '__gt__', '__hash__', '__init__', '__init_subclass__', '__le__', '__lt__', '__module__', '__ne__', '__new__', '__reduce__', '__reduce_ex__', '__repr__', '__setattr__', '__sizeof__', '__str__', '__subclasshook__', '__weakref__', '_api', '_json', 'author', 'contributors', 'coordinates', 'created_at', 'destroy', 'entities', 'favorite', 'favorite_count', 'favorited', 'geo', 'id', 'id_str', 'in_reply_to_screen_name', 'in_reply_to_status_id', 'in_reply_to_status_id_str', 'in_reply_to_user_id', 'in_reply_to_user_id_str', 'is_quote_status', 'lang', 'parse', 'parse_list', 'place', 'retweet', 'retweet_count', 'retweeted', 'retweeted_status', 'retweets', 'source', 'source_url', 'text', 'truncated', 'user']\n"
     ]
    }
   ],
   "source": [
    "# Internal methods of a single tweet object:\n",
    "print(dir(tweets[0]))"
   ]
  },
  {
   "cell_type": "code",
   "execution_count": 9,
   "metadata": {},
   "outputs": [
    {
     "name": "stdout",
     "output_type": "stream",
     "text": [
      "1255558366455365634\n",
      "2020-04-29 18:03:36\n",
      "Twitter for iPhone\n",
      "0\n",
      "3173\n",
      "None\n",
      "None\n",
      "{'hashtags': [], 'symbols': [], 'user_mentions': [{'screen_name': 'MeatInstitute', 'name': 'North American Meat Institute', 'id': 30944238, 'id_str': '30944238', 'indices': [3, 17]}, {'screen_name': 'realDonaldTrump', 'name': 'Donald J. Trump', 'id': 25073877, 'id_str': '25073877', 'indices': [39, 55]}, {'screen_name': 'MeatInstitute', 'name': 'North American Meat Institute', 'id': 30944238, 'id_str': '30944238', 'indices': [103, 117]}], 'urls': []}\n"
     ]
    }
   ],
   "source": [
    "# We print info from the first tweet:\n",
    "print(tweets[0].id)\n",
    "print(tweets[0].created_at)\n",
    "print(tweets[0].source)\n",
    "print(tweets[0].favorite_count)\n",
    "print(tweets[0].retweet_count)\n",
    "print(tweets[0].geo)\n",
    "print(tweets[0].coordinates)\n",
    "print(tweets[0].entities)"
   ]
  },
  {
   "cell_type": "markdown",
   "metadata": {},
   "source": [
    "**Adding relevant info to our dataframe**"
   ]
  },
  {
   "cell_type": "code",
   "execution_count": 10,
   "metadata": {},
   "outputs": [],
   "source": [
    "# We add relevant data:\n",
    "data['len']  = np.array([len(tweet.text) for tweet in tweets])\n",
    "data['ID']   = np.array([tweet.id for tweet in tweets])\n",
    "data['Date'] = np.array([tweet.created_at for tweet in tweets])\n",
    "data['Source'] = np.array([tweet.source for tweet in tweets])\n",
    "data['Likes']  = np.array([tweet.favorite_count for tweet in tweets])\n",
    "data['RTs']    = np.array([tweet.retweet_count for tweet in tweets])"
   ]
  },
  {
   "cell_type": "code",
   "execution_count": 11,
   "metadata": {},
   "outputs": [
    {
     "data": {
      "text/html": [
       "<div>\n",
       "<style scoped>\n",
       "    .dataframe tbody tr th:only-of-type {\n",
       "        vertical-align: middle;\n",
       "    }\n",
       "\n",
       "    .dataframe tbody tr th {\n",
       "        vertical-align: top;\n",
       "    }\n",
       "\n",
       "    .dataframe thead th {\n",
       "        text-align: right;\n",
       "    }\n",
       "</style>\n",
       "<table border=\"1\" class=\"dataframe\">\n",
       "  <thead>\n",
       "    <tr style=\"text-align: right;\">\n",
       "      <th></th>\n",
       "      <th>Tweets</th>\n",
       "      <th>len</th>\n",
       "      <th>ID</th>\n",
       "      <th>Date</th>\n",
       "      <th>Source</th>\n",
       "      <th>Likes</th>\n",
       "      <th>RTs</th>\n",
       "    </tr>\n",
       "  </thead>\n",
       "  <tbody>\n",
       "    <tr>\n",
       "      <td>0</td>\n",
       "      <td>RT @MeatInstitute: \"We are grateful to @realDo...</td>\n",
       "      <td>144</td>\n",
       "      <td>1255558366455365634</td>\n",
       "      <td>2020-04-29 18:03:36</td>\n",
       "      <td>Twitter for iPhone</td>\n",
       "      <td>0</td>\n",
       "      <td>3173</td>\n",
       "    </tr>\n",
       "    <tr>\n",
       "      <td>1</td>\n",
       "      <td>No, I think Amash would make a wonderful candi...</td>\n",
       "      <td>140</td>\n",
       "      <td>1255510996623527936</td>\n",
       "      <td>2020-04-29 14:55:22</td>\n",
       "      <td>Twitter for iPhone</td>\n",
       "      <td>41646</td>\n",
       "      <td>10442</td>\n",
       "    </tr>\n",
       "    <tr>\n",
       "      <td>2</td>\n",
       "      <td>THANK YOU @MarkLevinShow! \\nhttps://t.co/GJSNM...</td>\n",
       "      <td>50</td>\n",
       "      <td>1255507868280856581</td>\n",
       "      <td>2020-04-29 14:42:56</td>\n",
       "      <td>Twitter for iPhone</td>\n",
       "      <td>45413</td>\n",
       "      <td>14846</td>\n",
       "    </tr>\n",
       "    <tr>\n",
       "      <td>3</td>\n",
       "      <td>RT @TrumpWarRoom: Yahoo reporter apologizes to...</td>\n",
       "      <td>140</td>\n",
       "      <td>1255485332339990528</td>\n",
       "      <td>2020-04-29 13:13:23</td>\n",
       "      <td>Twitter for iPhone</td>\n",
       "      <td>0</td>\n",
       "      <td>7670</td>\n",
       "    </tr>\n",
       "    <tr>\n",
       "      <td>4</td>\n",
       "      <td>At least they admit it. The Failing @nytimes &amp;...</td>\n",
       "      <td>126</td>\n",
       "      <td>1255484391364665351</td>\n",
       "      <td>2020-04-29 13:09:39</td>\n",
       "      <td>Twitter for iPhone</td>\n",
       "      <td>54994</td>\n",
       "      <td>17476</td>\n",
       "    </tr>\n",
       "    <tr>\n",
       "      <td>5</td>\n",
       "      <td>RT @ErinMPerrine: 🚨🚨 TUNE IN NOW 🚨🚨\\n\\nTonight...</td>\n",
       "      <td>147</td>\n",
       "      <td>1255482641245188108</td>\n",
       "      <td>2020-04-29 13:02:42</td>\n",
       "      <td>Twitter for iPhone</td>\n",
       "      <td>0</td>\n",
       "      <td>3231</td>\n",
       "    </tr>\n",
       "    <tr>\n",
       "      <td>6</td>\n",
       "      <td>RT @TeamTrump: WATCH: Team Trump Online with @...</td>\n",
       "      <td>140</td>\n",
       "      <td>1255482613927739393</td>\n",
       "      <td>2020-04-29 13:02:35</td>\n",
       "      <td>Twitter for iPhone</td>\n",
       "      <td>0</td>\n",
       "      <td>3346</td>\n",
       "    </tr>\n",
       "    <tr>\n",
       "      <td>7</td>\n",
       "      <td>RT @TeamTrump: Tisa Clark, CEO Of J.D. Clark P...</td>\n",
       "      <td>140</td>\n",
       "      <td>1255482503349047298</td>\n",
       "      <td>2020-04-29 13:02:09</td>\n",
       "      <td>Twitter for iPhone</td>\n",
       "      <td>0</td>\n",
       "      <td>3542</td>\n",
       "    </tr>\n",
       "    <tr>\n",
       "      <td>8</td>\n",
       "      <td>RT @EquipoTrump: As Trump campaign senior advi...</td>\n",
       "      <td>140</td>\n",
       "      <td>1255482443647385602</td>\n",
       "      <td>2020-04-29 13:01:54</td>\n",
       "      <td>Twitter for iPhone</td>\n",
       "      <td>0</td>\n",
       "      <td>5175</td>\n",
       "    </tr>\n",
       "    <tr>\n",
       "      <td>9</td>\n",
       "      <td>RT @TrumpWarRoom: Joe Biden rambles and strugg...</td>\n",
       "      <td>124</td>\n",
       "      <td>1255481563195850754</td>\n",
       "      <td>2020-04-29 12:58:25</td>\n",
       "      <td>Twitter for iPhone</td>\n",
       "      <td>0</td>\n",
       "      <td>4471</td>\n",
       "    </tr>\n",
       "  </tbody>\n",
       "</table>\n",
       "</div>"
      ],
      "text/plain": [
       "                                              Tweets  len  \\\n",
       "0  RT @MeatInstitute: \"We are grateful to @realDo...  144   \n",
       "1  No, I think Amash would make a wonderful candi...  140   \n",
       "2  THANK YOU @MarkLevinShow! \\nhttps://t.co/GJSNM...   50   \n",
       "3  RT @TrumpWarRoom: Yahoo reporter apologizes to...  140   \n",
       "4  At least they admit it. The Failing @nytimes &...  126   \n",
       "5  RT @ErinMPerrine: 🚨🚨 TUNE IN NOW 🚨🚨\\n\\nTonight...  147   \n",
       "6  RT @TeamTrump: WATCH: Team Trump Online with @...  140   \n",
       "7  RT @TeamTrump: Tisa Clark, CEO Of J.D. Clark P...  140   \n",
       "8  RT @EquipoTrump: As Trump campaign senior advi...  140   \n",
       "9  RT @TrumpWarRoom: Joe Biden rambles and strugg...  124   \n",
       "\n",
       "                    ID                Date              Source  Likes    RTs  \n",
       "0  1255558366455365634 2020-04-29 18:03:36  Twitter for iPhone      0   3173  \n",
       "1  1255510996623527936 2020-04-29 14:55:22  Twitter for iPhone  41646  10442  \n",
       "2  1255507868280856581 2020-04-29 14:42:56  Twitter for iPhone  45413  14846  \n",
       "3  1255485332339990528 2020-04-29 13:13:23  Twitter for iPhone      0   7670  \n",
       "4  1255484391364665351 2020-04-29 13:09:39  Twitter for iPhone  54994  17476  \n",
       "5  1255482641245188108 2020-04-29 13:02:42  Twitter for iPhone      0   3231  \n",
       "6  1255482613927739393 2020-04-29 13:02:35  Twitter for iPhone      0   3346  \n",
       "7  1255482503349047298 2020-04-29 13:02:09  Twitter for iPhone      0   3542  \n",
       "8  1255482443647385602 2020-04-29 13:01:54  Twitter for iPhone      0   5175  \n",
       "9  1255481563195850754 2020-04-29 12:58:25  Twitter for iPhone      0   4471  "
      ]
     },
     "metadata": {},
     "output_type": "display_data"
    }
   ],
   "source": [
    "# Display of first 10 elements from dataframe:\n",
    "display(data.head(10))"
   ]
  },
  {
   "cell_type": "markdown",
   "metadata": {},
   "source": [
    "**Visualization and basic statistics**"
   ]
  },
  {
   "cell_type": "markdown",
   "metadata": {},
   "source": [
    "**Averages and popularity**"
   ]
  },
  {
   "cell_type": "code",
   "execution_count": 12,
   "metadata": {},
   "outputs": [
    {
     "name": "stdout",
     "output_type": "stream",
     "text": [
      "The lenght's average in tweets: 117.915\n"
     ]
    }
   ],
   "source": [
    "# We extract the mean of lenghts:\n",
    "mean = np.mean(data['len'])\n",
    "\n",
    "print(\"The lenght's average in tweets: {}\".format(mean))"
   ]
  },
  {
   "cell_type": "markdown",
   "metadata": {},
   "source": [
    "- To extract more data, we will use some pandas' functionalities:"
   ]
  },
  {
   "cell_type": "code",
   "execution_count": 13,
   "metadata": {},
   "outputs": [
    {
     "name": "stdout",
     "output_type": "stream",
     "text": [
      "The tweet with more likes is: \n",
      "Happy Birthday to Melania, our great First Lady!\n",
      "Number of likes: 574952\n",
      "48 characters.\n",
      "\n",
      "The tweet with more retweets is: \n",
      "RT @realDonaldTrump: BRILLIANT, A MUST WATCH! @RepDanCrenshaw https://t.co/W6pGsJQ2ua\n",
      "Number of retweets: 93830\n",
      "85 characters.\n",
      "\n"
     ]
    }
   ],
   "source": [
    "# We extract the tweet with more FAVs and more RTs:\n",
    "\n",
    "fav_max = np.max(data['Likes'])\n",
    "rt_max  = np.max(data['RTs'])\n",
    "\n",
    "fav = data[data.Likes == fav_max].index[0]\n",
    "rt  = data[data.RTs == rt_max].index[0]\n",
    "\n",
    "# Max FAVs:\n",
    "print(\"The tweet with more likes is: \\n{}\".format(data['Tweets'][fav]))\n",
    "print(\"Number of likes: {}\".format(fav_max))\n",
    "print(\"{} characters.\\n\".format(data['len'][fav]))\n",
    "\n",
    "# Max RTs:\n",
    "print(\"The tweet with more retweets is: \\n{}\".format(data['Tweets'][rt]))\n",
    "print(\"Number of retweets: {}\".format(rt_max))\n",
    "print(\"{} characters.\\n\".format(data['len'][rt]))"
   ]
  },
  {
   "cell_type": "markdown",
   "metadata": {},
   "source": [
    "**Time series**\n",
    "\n",
    "- Pandas has its own object for time series. Since we have a whole vector with creation dates, we can construct time series respect tweets lengths, likes and retweets.\n",
    "- The way we do it is:"
   ]
  },
  {
   "cell_type": "code",
   "execution_count": 14,
   "metadata": {},
   "outputs": [],
   "source": [
    "# We create time series for data:\n",
    "tlen = pd.Series(data=data['len'].values, index=data['Date'])\n",
    "tfav = pd.Series(data=data['Likes'].values, index=data['Date'])\n",
    "tret = pd.Series(data=data['RTs'].values, index=data['Date'])"
   ]
  },
  {
   "cell_type": "markdown",
   "metadata": {},
   "source": [
    "- And if we want to plot the time series, pandas already has its own method in the object. We can plot a time series as follows:"
   ]
  },
  {
   "cell_type": "code",
   "execution_count": 15,
   "metadata": {},
   "outputs": [
    {
     "data": {
      "image/png": "[encoded data removed]",
      "text/plain": [
       "<Figure size 1152x288 with 1 Axes>"
      ]
     },
     "metadata": {
      "needs_background": "light"
     },
     "output_type": "display_data"
    }
   ],
   "source": [
    "# Lenghts along time:\n",
    "tlen.plot(figsize=(16,4), color='r');"
   ]
  },
  {
   "cell_type": "markdown",
   "metadata": {},
   "source": [
    "- And to plot the likes versus the retweets in the same chart:"
   ]
  },
  {
   "cell_type": "code",
   "execution_count": 16,
   "metadata": {},
   "outputs": [
    {
     "data": {
      "image/png": "[encoded data removed]",
      "text/plain": [
       "<Figure size 1152x288 with 1 Axes>"
      ]
     },
     "metadata": {
      "needs_background": "light"
     },
     "output_type": "display_data"
    }
   ],
   "source": [
    "# Likes vs retweets visualization:\n",
    "tfav.plot(figsize=(16,4), label=\"Likes\", legend=True)\n",
    "tret.plot(figsize=(16,4), label=\"Retweets\", legend=True);"
   ]
  },
  {
   "cell_type": "markdown",
   "metadata": {},
   "source": [
    "- Pie charts of sources"
   ]
  },
  {
   "cell_type": "code",
   "execution_count": 17,
   "metadata": {},
   "outputs": [
    {
     "name": "stdout",
     "output_type": "stream",
     "text": [
      "Creation of content sources:\n",
      "* Twitter for iPhone\n"
     ]
    }
   ],
   "source": [
    "# We obtain all possible sources:\n",
    "sources = []\n",
    "for source in data['Source']:\n",
    "    if source not in sources:\n",
    "        sources.append(source)\n",
    "\n",
    "# We print sources list:\n",
    "print(\"Creation of content sources:\")\n",
    "for source in sources:\n",
    "    print(\"* {}\".format(source))"
   ]
  },
  {
   "cell_type": "markdown",
   "metadata": {},
   "source": [
    "- With the following output, we realize that basically this twitter account has two sources: Creation of content sources: * Twitter for iPhone * Media Studio\n",
    "- We now count the number of each source and create a pie chart. You'll notice that this code cell is not the most optimized one."
   ]
  },
  {
   "cell_type": "code",
   "execution_count": 18,
   "metadata": {},
   "outputs": [
    {
     "data": {
      "image/png": "[encoded data removed]",
      "text/plain": [
       "<Figure size 432x432 with 1 Axes>"
      ]
     },
     "metadata": {},
     "output_type": "display_data"
    }
   ],
   "source": [
    "# We create a numpy vector mapped to labels:\n",
    "percent = np.zeros(len(sources))\n",
    "\n",
    "for source in data['Source']:\n",
    "    for index in range(len(sources)):\n",
    "        if source == sources[index]:\n",
    "            percent[index] += 1\n",
    "            pass\n",
    "\n",
    "percent /= 100\n",
    "\n",
    "# Pie chart:\n",
    "pie_chart = pd.Series(percent, index=sources, name='Sources')\n",
    "pie_chart.plot.pie(fontsize=11, autopct='%.2f', figsize=(6, 6));"
   ]
  },
  {
   "cell_type": "markdown",
   "metadata": {},
   "source": [
    "**Sentiment analysis**"
   ]
  },
  {
   "cell_type": "markdown",
   "metadata": {},
   "source": [
    "- **Importing textblob**\n",
    "- textblob will allow us to do sentiment analysis in a very simple way. We will also use the re library from Python, which is used to work with regular expressions. \n",
    "- For this, I'll provide you two utility functions to: a) clean text (which means that any symbol distinct to an alphanumeric value will be remapped into a new one that satisfies this condition), and b) create a classifier to analyze the polarity of each tweet after cleaning the text in it. I won't explain the specific way in which the function that cleans works, since it would be extended and it might be better understood in the official redocumentation."
   ]
  },
  {
   "cell_type": "code",
   "execution_count": 19,
   "metadata": {},
   "outputs": [],
   "source": [
    "from textblob import TextBlob\n",
    "import re\n",
    "\n",
    "def clean_tweet(tweet):\n",
    "    '''\n",
    "    Utility function to clean the text in a tweet by removing\n",
    "    links and special characters using regex.\n",
    "    '''\n",
    "    return ' '.join(re.sub(\"(@[A-Za-z0-9]+)|([^0-9A-Za-z \\t])|(\\w+:\\/\\/\\S+)\", \" \", tweet).split())\n",
    "\n",
    "def analize_sentiment(tweet):\n",
    "    '''\n",
    "    Utility function to classify the polarity of a tweet\n",
    "    using textblob.\n",
    "    '''\n",
    "    analysis = TextBlob(clean_tweet(tweet))\n",
    "    if analysis.sentiment.polarity > 0:\n",
    "        return 1\n",
    "    elif analysis.sentiment.polarity == 0:\n",
    "        return 0\n",
    "    else:\n",
    "        return -1"
   ]
  },
  {
   "cell_type": "code",
   "execution_count": 20,
   "metadata": {},
   "outputs": [
    {
     "data": {
      "text/html": [
       "<div>\n",
       "<style scoped>\n",
       "    .dataframe tbody tr th:only-of-type {\n",
       "        vertical-align: middle;\n",
       "    }\n",
       "\n",
       "    .dataframe tbody tr th {\n",
       "        vertical-align: top;\n",
       "    }\n",
       "\n",
       "    .dataframe thead th {\n",
       "        text-align: right;\n",
       "    }\n",
       "</style>\n",
       "<table border=\"1\" class=\"dataframe\">\n",
       "  <thead>\n",
       "    <tr style=\"text-align: right;\">\n",
       "      <th></th>\n",
       "      <th>Tweets</th>\n",
       "      <th>len</th>\n",
       "      <th>ID</th>\n",
       "      <th>Date</th>\n",
       "      <th>Source</th>\n",
       "      <th>Likes</th>\n",
       "      <th>RTs</th>\n",
       "      <th>SA</th>\n",
       "    </tr>\n",
       "  </thead>\n",
       "  <tbody>\n",
       "    <tr>\n",
       "      <td>0</td>\n",
       "      <td>RT @MeatInstitute: \"We are grateful to @realDo...</td>\n",
       "      <td>144</td>\n",
       "      <td>1255558366455365634</td>\n",
       "      <td>2020-04-29 18:03:36</td>\n",
       "      <td>Twitter for iPhone</td>\n",
       "      <td>0</td>\n",
       "      <td>3173</td>\n",
       "      <td>0</td>\n",
       "    </tr>\n",
       "    <tr>\n",
       "      <td>1</td>\n",
       "      <td>No, I think Amash would make a wonderful candi...</td>\n",
       "      <td>140</td>\n",
       "      <td>1255510996623527936</td>\n",
       "      <td>2020-04-29 14:55:22</td>\n",
       "      <td>Twitter for iPhone</td>\n",
       "      <td>41646</td>\n",
       "      <td>10442</td>\n",
       "      <td>1</td>\n",
       "    </tr>\n",
       "    <tr>\n",
       "      <td>2</td>\n",
       "      <td>THANK YOU @MarkLevinShow! \\nhttps://t.co/GJSNM...</td>\n",
       "      <td>50</td>\n",
       "      <td>1255507868280856581</td>\n",
       "      <td>2020-04-29 14:42:56</td>\n",
       "      <td>Twitter for iPhone</td>\n",
       "      <td>45413</td>\n",
       "      <td>14846</td>\n",
       "      <td>0</td>\n",
       "    </tr>\n",
       "    <tr>\n",
       "      <td>3</td>\n",
       "      <td>RT @TrumpWarRoom: Yahoo reporter apologizes to...</td>\n",
       "      <td>140</td>\n",
       "      <td>1255485332339990528</td>\n",
       "      <td>2020-04-29 13:13:23</td>\n",
       "      <td>Twitter for iPhone</td>\n",
       "      <td>0</td>\n",
       "      <td>7670</td>\n",
       "      <td>-1</td>\n",
       "    </tr>\n",
       "    <tr>\n",
       "      <td>4</td>\n",
       "      <td>At least they admit it. The Failing @nytimes &amp;...</td>\n",
       "      <td>126</td>\n",
       "      <td>1255484391364665351</td>\n",
       "      <td>2020-04-29 13:09:39</td>\n",
       "      <td>Twitter for iPhone</td>\n",
       "      <td>54994</td>\n",
       "      <td>17476</td>\n",
       "      <td>-1</td>\n",
       "    </tr>\n",
       "    <tr>\n",
       "      <td>5</td>\n",
       "      <td>RT @ErinMPerrine: 🚨🚨 TUNE IN NOW 🚨🚨\\n\\nTonight...</td>\n",
       "      <td>147</td>\n",
       "      <td>1255482641245188108</td>\n",
       "      <td>2020-04-29 13:02:42</td>\n",
       "      <td>Twitter for iPhone</td>\n",
       "      <td>0</td>\n",
       "      <td>3231</td>\n",
       "      <td>1</td>\n",
       "    </tr>\n",
       "    <tr>\n",
       "      <td>6</td>\n",
       "      <td>RT @TeamTrump: WATCH: Team Trump Online with @...</td>\n",
       "      <td>140</td>\n",
       "      <td>1255482613927739393</td>\n",
       "      <td>2020-04-29 13:02:35</td>\n",
       "      <td>Twitter for iPhone</td>\n",
       "      <td>0</td>\n",
       "      <td>3346</td>\n",
       "      <td>0</td>\n",
       "    </tr>\n",
       "    <tr>\n",
       "      <td>7</td>\n",
       "      <td>RT @TeamTrump: Tisa Clark, CEO Of J.D. Clark P...</td>\n",
       "      <td>140</td>\n",
       "      <td>1255482503349047298</td>\n",
       "      <td>2020-04-29 13:02:09</td>\n",
       "      <td>Twitter for iPhone</td>\n",
       "      <td>0</td>\n",
       "      <td>3542</td>\n",
       "      <td>1</td>\n",
       "    </tr>\n",
       "    <tr>\n",
       "      <td>8</td>\n",
       "      <td>RT @EquipoTrump: As Trump campaign senior advi...</td>\n",
       "      <td>140</td>\n",
       "      <td>1255482443647385602</td>\n",
       "      <td>2020-04-29 13:01:54</td>\n",
       "      <td>Twitter for iPhone</td>\n",
       "      <td>0</td>\n",
       "      <td>5175</td>\n",
       "      <td>0</td>\n",
       "    </tr>\n",
       "    <tr>\n",
       "      <td>9</td>\n",
       "      <td>RT @TrumpWarRoom: Joe Biden rambles and strugg...</td>\n",
       "      <td>124</td>\n",
       "      <td>1255481563195850754</td>\n",
       "      <td>2020-04-29 12:58:25</td>\n",
       "      <td>Twitter for iPhone</td>\n",
       "      <td>0</td>\n",
       "      <td>4471</td>\n",
       "      <td>0</td>\n",
       "    </tr>\n",
       "  </tbody>\n",
       "</table>\n",
       "</div>"
      ],
      "text/plain": [
       "                                              Tweets  len  \\\n",
       "0  RT @MeatInstitute: \"We are grateful to @realDo...  144   \n",
       "1  No, I think Amash would make a wonderful candi...  140   \n",
       "2  THANK YOU @MarkLevinShow! \\nhttps://t.co/GJSNM...   50   \n",
       "3  RT @TrumpWarRoom: Yahoo reporter apologizes to...  140   \n",
       "4  At least they admit it. The Failing @nytimes &...  126   \n",
       "5  RT @ErinMPerrine: 🚨🚨 TUNE IN NOW 🚨🚨\\n\\nTonight...  147   \n",
       "6  RT @TeamTrump: WATCH: Team Trump Online with @...  140   \n",
       "7  RT @TeamTrump: Tisa Clark, CEO Of J.D. Clark P...  140   \n",
       "8  RT @EquipoTrump: As Trump campaign senior advi...  140   \n",
       "9  RT @TrumpWarRoom: Joe Biden rambles and strugg...  124   \n",
       "\n",
       "                    ID                Date              Source  Likes    RTs  \\\n",
       "0  1255558366455365634 2020-04-29 18:03:36  Twitter for iPhone      0   3173   \n",
       "1  1255510996623527936 2020-04-29 14:55:22  Twitter for iPhone  41646  10442   \n",
       "2  1255507868280856581 2020-04-29 14:42:56  Twitter for iPhone  45413  14846   \n",
       "3  1255485332339990528 2020-04-29 13:13:23  Twitter for iPhone      0   7670   \n",
       "4  1255484391364665351 2020-04-29 13:09:39  Twitter for iPhone  54994  17476   \n",
       "5  1255482641245188108 2020-04-29 13:02:42  Twitter for iPhone      0   3231   \n",
       "6  1255482613927739393 2020-04-29 13:02:35  Twitter for iPhone      0   3346   \n",
       "7  1255482503349047298 2020-04-29 13:02:09  Twitter for iPhone      0   3542   \n",
       "8  1255482443647385602 2020-04-29 13:01:54  Twitter for iPhone      0   5175   \n",
       "9  1255481563195850754 2020-04-29 12:58:25  Twitter for iPhone      0   4471   \n",
       "\n",
       "   SA  \n",
       "0   0  \n",
       "1   1  \n",
       "2   0  \n",
       "3  -1  \n",
       "4  -1  \n",
       "5   1  \n",
       "6   0  \n",
       "7   1  \n",
       "8   0  \n",
       "9   0  "
      ]
     },
     "metadata": {},
     "output_type": "display_data"
    }
   ],
   "source": [
    "# We create a column with the result of the analysis:\n",
    "data['SA'] = np.array([ analize_sentiment(tweet) for tweet in data['Tweets'] ])\n",
    "\n",
    "# We display the updated dataframe with the new column:\n",
    "display(data.head(10))"
   ]
  },
  {
   "cell_type": "markdown",
   "metadata": {},
   "source": [
    "**Analyzing the results**\n",
    "- To have a simple way to verify the results, we will count the number of neutral, positive and negative tweets and extract the percentages."
   ]
  },
  {
   "cell_type": "code",
   "execution_count": 21,
   "metadata": {},
   "outputs": [],
   "source": [
    "# We construct lists with classified tweets:\n",
    "pos_tweets = [ tweet for index, tweet in enumerate(data['Tweets']) if data['SA'][index] > 0]\n",
    "neu_tweets = [ tweet for index, tweet in enumerate(data['Tweets']) if data['SA'][index] == 0]\n",
    "neg_tweets = [ tweet for index, tweet in enumerate(data['Tweets']) if data['SA'][index] < 0]"
   ]
  },
  {
   "cell_type": "markdown",
   "metadata": {},
   "source": [
    "- Now that we have the lists, we just print the percentages:"
   ]
  },
  {
   "cell_type": "code",
   "execution_count": 22,
   "metadata": {},
   "outputs": [
    {
     "name": "stdout",
     "output_type": "stream",
     "text": [
      "Percentage of positive tweets: 48.0%\n",
      "Percentage of neutral tweets: 34.0%\n",
      "Percentage de negative tweets: 18.0%\n"
     ]
    }
   ],
   "source": [
    "print(\"Percentage of positive tweets: {}%\".format(len(pos_tweets)*100/len(data['Tweets'])))\n",
    "print(\"Percentage of neutral tweets: {}%\".format(len(neu_tweets)*100/len(data['Tweets'])))\n",
    "print(\"Percentage de negative tweets: {}%\".format(len(neg_tweets)*100/len(data['Tweets'])))"
   ]
  },
  {
   "cell_type": "code",
   "execution_count": null,
   "metadata": {},
   "outputs": [],
   "source": []
  }
 ],
 "metadata": {
  "kernelspec": {
   "display_name": "Python 3",
   "language": "python",
   "name": "python3"
  },
  "language_info": {
   "codemirror_mode": {
    "name": "ipython",
    "version": 3
   },
   "file_extension": ".py",
   "mimetype": "text/x-python",
   "name": "python",
   "nbconvert_exporter": "python",
   "pygments_lexer": "ipython3",
   "version": "3.8.5"
  }
 },
 "nbformat": 4,
 "nbformat_minor": 2
}
