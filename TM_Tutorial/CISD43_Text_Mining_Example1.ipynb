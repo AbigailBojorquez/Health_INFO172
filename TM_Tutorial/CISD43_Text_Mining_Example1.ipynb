{
 "cells": [
  {
   "cell_type": "code",
   "execution_count": null,
   "metadata": {},
   "outputs": [],
   "source": [
    "#You need to create a twitter developer account\n"
   ]
  },
  {
   "cell_type": "code",
   "execution_count": 1,
   "metadata": {},
   "outputs": [],
   "source": [
    "#Example from Just added more notes\n",
    "#https://www.earthdatascience.org/courses/use-data-open-source-python/intro-to-apis/twitter-data-in-python/\n"
   ]
  },
  {
   "cell_type": "markdown",
   "metadata": {},
   "source": [
    "**Authorizing an application to access Twitter account data**\n",
    "- To access the Twitter API, you will need 4 things from the your Twitter App page.\n",
    "- These keys are located in your Twitter app settings in the Keys and Access Tokens tab."
   ]
  },
  {
   "cell_type": "code",
   "execution_count": 6,
   "metadata": {},
   "outputs": [],
   "source": [
    "#import libraries that you need\n",
    "import tweepy\n",
    "from tweepy import OAuthHandler, Stream\n",
    "\n",
    "#import other required libraries\n",
    "import os\n",
    "import pandas as pd"
   ]
  },
  {
   "cell_type": "markdown",
   "metadata": {},
   "source": [
    "- Go to https://developer.twitter.com/en/apps to create an app and get values\n",
    "- for these credentials, which you'll need to provide in place of these\n",
    "- empty string values that are defined as placeholders.\n",
    "- See https://developer.twitter.com/en/docs/basics/authentication/overview/oauth\n",
    "-  for more information on Twitter's OAuth implementation."
   ]
  },
  {
   "cell_type": "code",
   "execution_count": 7,
   "metadata": {},
   "outputs": [
    {
     "name": "stdout",
     "output_type": "stream",
     "text": [
      "<tweepy.api.API object at 0x000001FAEF7B8F08>\n"
     ]
    }
   ],
   "source": [
    "#required keys and tokens\n",
    "\n",
    "access_token = ''\n",
    "access_secret = ''\n",
    "consumer_key = ''\n",
    "consumer_secret = ''\n",
    "\n",
    "\n",
    "auth = tweepy.OAuthHandler(consumer_key, consumer_secret)\n",
    "auth.set_access_token(access_token, access_secret)\n",
    " \n",
    "twitter_api = tweepy.API(auth)\n",
    "\n",
    "\n",
    "\n",
    "# Nothing to see by displaying twitter_api except that it's now a\n",
    "# defined variable\n",
    "\n",
    "print(twitter_api)"
   ]
  },
  {
   "cell_type": "markdown",
   "metadata": {},
   "source": [
    "**Search Twitter for Tweets**\n",
    "- Now you are ready to search Twitter for recent tweets! \n",
    "- Start by finding recent tweets that use the #wildfires hashtag. \n",
    "- You will use the .Cursor method to get an object containing tweets containing the hashtag #wildfires.\n",
    "\n",
    "- To create this query, you will define the:\n",
    "\n",
    "  - Search term - in this case #wildfires\n",
    "  - the start date of your search\n",
    "  - Remember that the Twitter API only allows you to access the past few weeks of tweets, so you cannot dig into the history too far.\n"
   ]
  },
  {
   "cell_type": "code",
   "execution_count": 9,
   "metadata": {},
   "outputs": [],
   "source": [
    "# Define the search term and the date_since date as variables\n",
    "search_words = \"#wildfires\"\n",
    "date_since = \"2018-11-16\""
   ]
  },
  {
   "cell_type": "code",
   "execution_count": 10,
   "metadata": {},
   "outputs": [
    {
     "data": {
      "text/plain": [
       "<tweepy.cursor.ItemIterator at 0x1faec837308>"
      ]
     },
     "execution_count": 10,
     "metadata": {},
     "output_type": "execute_result"
    }
   ],
   "source": [
    "#Below you use .Cursor() to search twitter for tweets containing the search term #wildfires. \n",
    "#You can restrict the number of tweets returned by specifying a number in the .items() method.\n",
    "#.items(5) will return 5 of the most recent tweets.\n",
    "\n",
    "# Collect tweets\n",
    "tweets = tweepy.Cursor(twitter_api.search,\n",
    "              q=search_words,\n",
    "              lang=\"en\",\n",
    "              since=date_since).items(5)\n",
    "tweets\n"
   ]
  },
  {
   "cell_type": "markdown",
   "metadata": {},
   "source": [
    "- .Cursor() returns an object that you can iterate or loop over to access the data collected.\n",
    "- Each item in the iterator has various attributes that you can access to get information about each tweet including:\n",
    "  - the text of the tweet\n",
    "  - who sent the tweet\n",
    "  - the date the tweet was sent and more\n",
    "- The code below loops through the object and prints the text associated with each tweet."
   ]
  },
  {
   "cell_type": "code",
   "execution_count": 11,
   "metadata": {},
   "outputs": [
    {
     "name": "stdout",
     "output_type": "stream",
     "text": [
      "1/2 Local officials in #Russia's remote #Irkutsk province are caught on camera setting fire to the forests. The ori… https://t.co/zGjOTr2iUj\n",
      "RT @m_parrington: Save the dates for some exciting presentations on global #wildfires at #EGU20 next week!\n",
      "\n",
      "Session NH7.2 on spatial &amp; temp…\n",
      "RT @sfe2016dublin: #GlobalWarning !!\n",
      "\n",
      "#FireLosses In #Australia &gt; #Bushfires Leave 470 Plants &amp; Nearly 200 Animals In Extreme Stress ~ Gove…\n",
      "RT @Grantham_IC: \"In a matter of years the UK will be ill prepared to handle #wildfires. It must consider what it might need in the future…\n",
      "RT @m_parrington: Save the dates for some exciting presentations on global #wildfires at #EGU20 next week!\n",
      "\n",
      "Session NH7.2 on spatial &amp; temp…\n"
     ]
    }
   ],
   "source": [
    "# Collect tweets\n",
    "tweets = tweepy.Cursor(twitter_api.search,\n",
    "              q=search_words,\n",
    "              lang=\"en\",\n",
    "              since=date_since).items(5)\n",
    "\n",
    "# Iterate and print tweets\n",
    "for tweet in tweets:\n",
    "    print(tweet.text)"
   ]
  },
  {
   "cell_type": "markdown",
   "metadata": {},
   "source": [
    "- The above approach uses a standard for loop.\n",
    "- However, this is an excellent place to use a Python list comprehension.\n",
    "- A list comprehension provides an efficient way to collect object elements contained within an iterator as a list."
   ]
  },
  {
   "cell_type": "code",
   "execution_count": 12,
   "metadata": {},
   "outputs": [
    {
     "data": {
      "text/plain": [
       "[\"1/2 Local officials in #Russia's remote #Irkutsk province are caught on camera setting fire to the forests. The ori… https://t.co/zGjOTr2iUj\",\n",
       " 'RT @m_parrington: Save the dates for some exciting presentations on global #wildfires at #EGU20 next week!\\n\\nSession NH7.2 on spatial &amp; temp…',\n",
       " 'RT @sfe2016dublin: #GlobalWarning !!\\n\\n#FireLosses In #Australia &gt; #Bushfires Leave 470 Plants &amp; Nearly 200 Animals In Extreme Stress ~ Gove…',\n",
       " 'RT @Grantham_IC: \"In a matter of years the UK will be ill prepared to handle #wildfires. It must consider what it might need in the future…',\n",
       " 'RT @m_parrington: Save the dates for some exciting presentations on global #wildfires at #EGU20 next week!\\n\\nSession NH7.2 on spatial &amp; temp…']"
      ]
     },
     "execution_count": 12,
     "metadata": {},
     "output_type": "execute_result"
    }
   ],
   "source": [
    "# Collect tweets\n",
    "tweets = tweepy.Cursor(twitter_api.search,\n",
    "                       q=search_words,\n",
    "                       lang=\"en\",\n",
    "                       since=date_since).items(5)\n",
    "\n",
    "# Collect a list of tweets\n",
    "[tweet.text for tweet in tweets]"
   ]
  },
  {
   "cell_type": "markdown",
   "metadata": {},
   "source": [
    "**To Keep or Remove Retweets**"
   ]
  },
  {
   "cell_type": "markdown",
   "metadata": {},
   "source": [
    "- A retweet is when someone shares someone else’s tweet.\n",
    "- It is similar to sharing in Facebook.\n",
    "- Sometimes you may want to remove retweets as they contain duplicate content that might skew your analysis if you are only looking at word frequency. \n",
    "- Other times, you may want to keep retweets.\n",
    "\n",
    "- Below you ignore all retweets by adding -filter:retweets to your query. \n",
    "- The Twitter API documentation has information on other ways to customize your queries."
   ]
  },
  {
   "cell_type": "code",
   "execution_count": 13,
   "metadata": {},
   "outputs": [
    {
     "data": {
      "text/plain": [
       "'#wildfires -filter:retweets'"
      ]
     },
     "execution_count": 13,
     "metadata": {},
     "output_type": "execute_result"
    }
   ],
   "source": [
    "new_search = search_words + \" -filter:retweets\"\n",
    "new_search"
   ]
  },
  {
   "cell_type": "code",
   "execution_count": 14,
   "metadata": {},
   "outputs": [
    {
     "data": {
      "text/plain": [
       "[\"1/2 Local officials in #Russia's remote #Irkutsk province are caught on camera setting fire to the forests. The ori… https://t.co/zGjOTr2iUj\",\n",
       " 'Save the dates for some exciting presentations on global #wildfires at #EGU20 next week!\\n\\nSession NH7.2 on spatial… https://t.co/BaV9Fc8yLX',\n",
       " '\"In a matter of years the UK will be ill prepared to handle #wildfires. It must consider what it might need in the… https://t.co/j3BlY3SFZg',\n",
       " '✔️87% of #wildfires in #Siberia man-made \\n✔️ Many Russian cities cloaked spring fire smog \\n\\nNews now: \"Forest arson… https://t.co/VhEb8OYo9X',\n",
       " 'Got them...\\n\\nRECYCLED #QuickDraw from the #AbLeg public (not empty press) gallery #Abpoli #NDP #UCP #Abpoli… https://t.co/E7Y2ZzFyQ5']"
      ]
     },
     "execution_count": 14,
     "metadata": {},
     "output_type": "execute_result"
    }
   ],
   "source": [
    "tweets = tweepy.Cursor(twitter_api.search,\n",
    "                       q=new_search,\n",
    "                       lang=\"en\",\n",
    "                       since=date_since).items(5)\n",
    "\n",
    "[tweet.text for tweet in tweets]"
   ]
  },
  {
   "cell_type": "markdown",
   "metadata": {},
   "source": [
    "**Who is Tweeting About Wildfires?**"
   ]
  },
  {
   "cell_type": "markdown",
   "metadata": {},
   "source": [
    "- You can access a wealth of information associated with each tweet. Below is an example of accessing the users who are sending the tweets related to #wildfires and their locations.\n",
    "- Note that user locations are manually entered into Twitter by the user. \n",
    "- Thus, you will see a lot of variation in the format of this value.\n",
    "\n",
    "  - tweet.user.screen_name provides the user’s twitter handle associated with each tweet.\n",
    "  - tweet.user.location provides the user’s provided location.\n",
    "  \n",
    "- You can experiment with other items available within each tweet by typing tweet. and using the tab button to see all of the available attributes stored."
   ]
  },
  {
   "cell_type": "code",
   "execution_count": 15,
   "metadata": {},
   "outputs": [
    {
     "data": {
      "text/plain": [
       "[['A_Melikishvili', 'Paris, France'],\n",
       " ['m_parrington', 'UK'],\n",
       " ['Grantham_IC', 'Imperial College London'],\n",
       " ['changeobserved', ''],\n",
       " ['DougBrinkman', '']]"
      ]
     },
     "execution_count": 15,
     "metadata": {},
     "output_type": "execute_result"
    }
   ],
   "source": [
    "tweets = tweepy.Cursor(twitter_api.search, \n",
    "                           q=new_search,\n",
    "                           lang=\"en\",\n",
    "                           since=date_since).items(5)\n",
    "\n",
    "users_locs = [[tweet.user.screen_name, tweet.user.location] for tweet in tweets]\n",
    "users_locs"
   ]
  },
  {
   "cell_type": "markdown",
   "metadata": {},
   "source": [
    "**Create a Pandas Dataframe From A List of Tweet Data**\n",
    "\n",
    "One you have a list of items that you wish to work with, you can create a pandas dataframe that contains that data."
   ]
  },
  {
   "cell_type": "code",
   "execution_count": 20,
   "metadata": {},
   "outputs": [
    {
     "data": {
      "text/html": [
       "<div>\n",
       "<style scoped>\n",
       "    .dataframe tbody tr th:only-of-type {\n",
       "        vertical-align: middle;\n",
       "    }\n",
       "\n",
       "    .dataframe tbody tr th {\n",
       "        vertical-align: top;\n",
       "    }\n",
       "\n",
       "    .dataframe thead th {\n",
       "        text-align: right;\n",
       "    }\n",
       "</style>\n",
       "<table border=\"1\" class=\"dataframe\">\n",
       "  <thead>\n",
       "    <tr style=\"text-align: right;\">\n",
       "      <th></th>\n",
       "      <th>user</th>\n",
       "      <th>location</th>\n",
       "    </tr>\n",
       "  </thead>\n",
       "  <tbody>\n",
       "    <tr>\n",
       "      <td>0</td>\n",
       "      <td>A_Melikishvili</td>\n",
       "      <td>Paris, France</td>\n",
       "    </tr>\n",
       "    <tr>\n",
       "      <td>1</td>\n",
       "      <td>m_parrington</td>\n",
       "      <td>UK</td>\n",
       "    </tr>\n",
       "    <tr>\n",
       "      <td>2</td>\n",
       "      <td>Grantham_IC</td>\n",
       "      <td>Imperial College London</td>\n",
       "    </tr>\n",
       "    <tr>\n",
       "      <td>3</td>\n",
       "      <td>changeobserved</td>\n",
       "      <td></td>\n",
       "    </tr>\n",
       "    <tr>\n",
       "      <td>4</td>\n",
       "      <td>DougBrinkman</td>\n",
       "      <td></td>\n",
       "    </tr>\n",
       "  </tbody>\n",
       "</table>\n",
       "</div>"
      ],
      "text/plain": [
       "             user                 location\n",
       "0  A_Melikishvili            Paris, France\n",
       "1    m_parrington                       UK\n",
       "2     Grantham_IC  Imperial College London\n",
       "3  changeobserved                         \n",
       "4    DougBrinkman                         "
      ]
     },
     "execution_count": 20,
     "metadata": {},
     "output_type": "execute_result"
    }
   ],
   "source": [
    "tweet_text = pd.DataFrame(data=users_locs, \n",
    "                    columns=['user', \"location\"])\n",
    "tweet_text"
   ]
  },
  {
   "cell_type": "markdown",
   "metadata": {},
   "source": [
    "**Customizing Twitter Queries**"
   ]
  },
  {
   "cell_type": "markdown",
   "metadata": {},
   "source": [
    "- For instance, if you search for climate+change, Twitter will return all tweets that contain both of those words (in a row) in each tweet."
   ]
  },
  {
   "cell_type": "code",
   "execution_count": 19,
   "metadata": {},
   "outputs": [
    {
     "data": {
      "text/plain": [
       "['Climate Change Threatens Drinking Water Across Great Lakes https://t.co/bKIH1SNfHa',\n",
       " \"@Reuters One thinks climate change isn't happening at all (which is wrong) and the other thinks climate change is a… https://t.co/y4MXM1Adq7\",\n",
       " 'My generation blew it. Fortunately, youth are stepping up. https://t.co/2Ykl091N0X',\n",
       " \"Guidelines issued for handling of waste generated during COVID-19 patient's treatment \\nCentral Pollution Control Bo… https://t.co/ROuFzidv5e\",\n",
       " 'Mutual aid groups respond to double threat of coronavirus and climate change https://t.co/CRjnTLUZzh https://t.co/8NAecFp1tz']"
      ]
     },
     "execution_count": 19,
     "metadata": {},
     "output_type": "execute_result"
    }
   ],
   "source": [
    "#Note that the code below creates a list that can be queried \n",
    "#using Python indexing to return the first five tweets.\n",
    "\n",
    "new_search = \"climate+change -filter:retweets\"\n",
    "\n",
    "tweets = tweepy.Cursor(twitter_api.search,\n",
    "                   q=new_search,\n",
    "                   lang=\"en\",\n",
    "                   since='2018-04-23').items(1000)\n",
    "\n",
    "all_tweets = [tweet.text for tweet in tweets]\n",
    "all_tweets[:5]"
   ]
  }
 ],
 "metadata": {
  "kernelspec": {
   "display_name": "Python 3",
   "language": "python",
   "name": "python3"
  },
  "language_info": {
   "codemirror_mode": {
    "name": "ipython",
    "version": 3
   },
   "file_extension": ".py",
   "mimetype": "text/x-python",
   "name": "python",
   "nbconvert_exporter": "python",
   "pygments_lexer": "ipython3",
   "version": "3.8.5"
  }
 },
 "nbformat": 4,
 "nbformat_minor": 2
}
