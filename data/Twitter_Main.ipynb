{
 "cells": [
  {
   "cell_type": "markdown",
   "id": "665f9d60",
   "metadata": {},
   "source": [
    "## Understanding Seasonal Trends through NLP\n",
    "- Abigail Bojorquez\n",
    "- Zachary Romero\n",
    "\n",
    "### Project Proposal: \n",
    "Analyzing Twitter data visualizes trends in common cold/flu symptoms vs pneumonia/bronchitis symptoms to educate health professionals.\n"
   ]
  },
  {
   "cell_type": "code",
   "execution_count": 1,
   "id": "32f0b05f",
   "metadata": {},
   "outputs": [],
   "source": [
    "## Standard Imports\n",
    "import numpy as np\n",
    "import pandas as pd\n",
    "from datetime import datetime\n",
    "import matplotlib.pyplot as plt\n",
    "import seaborn as sns\n",
    "import spacy \n",
    "import csv\n",
    "import tweepy as tweepy\n",
    "from spacy.lang.en.stop_words import STOP_WORDS\n",
    "from geopy.geocoders import Nominatim\n",
    "from textblob import TextBlob\n",
    "## Importing the OS and JSON Modules\n",
    "import os\n",
    "import json\n",
    "\n",
    "geolocator = Nominatim(user_agent=\"UCI_Tweet_Illness_App\")\n",
    "nlp = spacy.load('en_core_web_sm')"
   ]
  },
  {
   "cell_type": "markdown",
   "id": "e645996e",
   "metadata": {},
   "source": [
    "## Importing API Credentials"
   ]
  },
  {
   "cell_type": "code",
   "execution_count": 2,
   "id": "b6dca01f",
   "metadata": {},
   "outputs": [],
   "source": [
    "with open('/Users/abigailbojorquez/.secret/twitter_api.json') as f:\n",
    "    login = json.load(f)\n",
    "    \n",
    "    login.keys()"
   ]
  },
  {
   "cell_type": "code",
   "execution_count": 3,
   "id": "de54472c",
   "metadata": {},
   "outputs": [],
   "source": [
    "auth = tweepy.OAuthHandler(login['consumer_key'], login['consumer_secret'])\n",
    "auth.set_access_token(login['access_token'], login['access_secret'])\n",
    " \n",
    "twitter_api = tweepy.API(auth)"
   ]
  },
  {
   "cell_type": "code",
   "execution_count": 4,
   "id": "8058633e",
   "metadata": {},
   "outputs": [
    {
     "name": "stdout",
     "output_type": "stream",
     "text": [
      "RT @NYCountybirders: Birds are currently suffering from their own pandemic. Please do not touch, handle birds (like hand feeding) unless ab…\n",
      "RT @ShyJoanie: Atiku’s lawyer: My lord, no be say we nor rig ooo, but the one wey APC do ehn, cold catch me.\n",
      "Walking down Rainier Ave and the air smells like weed and grease and cold trees and I love it all so much.\n",
      "@FBananapants @FourWinns298 So, explain the flu, bananapants. 😄\n",
      "@HdtSling @NYSCounties @CEJRyanMcMahon @OnondagaCounty @GovKathyHochul @forcedanarchy @hannon44 @evilgermangirl The… https://t.co/VypPH257UF\n"
     ]
    }
   ],
   "source": [
    "# Quick Test Query\n",
    "search_words = 'cold OR flu OR pneumonia OR bronchitis'\n",
    "\n",
    "results = tweepy.Cursor(twitter_api.search_tweets, \n",
    "                        q=search_words, \n",
    "                        lang='en', \n",
    "                        since_id='2023-02-20').items(5)\n",
    "for tweets in results:\n",
    "    print(tweets.text)"
   ]
  },
  {
   "cell_type": "code",
   "execution_count": 5,
   "id": "282dda2d",
   "metadata": {},
   "outputs": [
    {
     "name": "stdout",
     "output_type": "stream",
     "text": [
      "Calls Left: \n",
      "179\n",
      "\n",
      "Time Until Reset: \n",
      "2023-03-02 14:50:39\n"
     ]
    }
   ],
   "source": [
    "# this will tell us how many\n",
    "limits = twitter_api.rate_limit_status()\n",
    "print('Calls Left: ')\n",
    "print(limits['resources']['search']['/search/tweets']['remaining'])\n",
    "reset_time = limits['resources']['search']['/search/tweets']['reset']\n",
    "dt = datetime.fromtimestamp(reset_time)\n",
    "print('\\nTime Until Reset: ')\n",
    "print(dt)"
   ]
  },
  {
   "cell_type": "code",
   "execution_count": 6,
   "id": "213b459c",
   "metadata": {},
   "outputs": [],
   "source": [
    "# Quick Test Query\n",
    "\n",
    "search_words = 'cold OR flu OR pneumonia OR bronchitis since:2022-01-01 -filter:retweets'\n",
    "location = \"39.8,-95.583068847656,2500km\"  # Geographical center of the US with 2500km radius\n",
    "language = \"en\"\n",
    "result_type = \"recent\"\n",
    "\n",
    "tweets = tweepy.Cursor(twitter_api.search_tweets, \n",
    "                        q=search_words, \n",
    "                        geocode=location,\n",
    "                        lang=language).items(1000)"
   ]
  },
  {
   "cell_type": "markdown",
   "id": "383dba48",
   "metadata": {},
   "source": [
    "### Filters Tweets and Import into Data Frame"
   ]
  },
  {
   "cell_type": "code",
   "execution_count": 7,
   "id": "69d2e9f7",
   "metadata": {},
   "outputs": [],
   "source": [
    "filtered_tweets = []\n",
    "\n",
    "for tweet in tweets:\n",
    "    if tweet.place is not None:\n",
    "        filtered_tweets.append({\n",
    "            'text': tweet.text,\n",
    "            'location': tweet.place.full_name,\n",
    "            'date': tweet.created_at.date()\n",
    "        })\n",
    "        \n",
    "tweets_with_loc = pd.DataFrame(filtered_tweets)\n",
    "tweets_with_loc.to_csv('test_tweets.csv', index=False)"
   ]
  },
  {
   "cell_type": "markdown",
   "id": "96ce57cf",
   "metadata": {},
   "source": [
    "## Creating Data Frame of Test_tweets"
   ]
  },
  {
   "cell_type": "code",
   "execution_count": 8,
   "id": "968ced9f",
   "metadata": {},
   "outputs": [
    {
     "data": {
      "text/html": [
       "<div>\n",
       "<style scoped>\n",
       "    .dataframe tbody tr th:only-of-type {\n",
       "        vertical-align: middle;\n",
       "    }\n",
       "\n",
       "    .dataframe tbody tr th {\n",
       "        vertical-align: top;\n",
       "    }\n",
       "\n",
       "    .dataframe thead th {\n",
       "        text-align: right;\n",
       "    }\n",
       "</style>\n",
       "<table border=\"1\" class=\"dataframe\">\n",
       "  <thead>\n",
       "    <tr style=\"text-align: right;\">\n",
       "      <th></th>\n",
       "      <th>text</th>\n",
       "      <th>location</th>\n",
       "      <th>date</th>\n",
       "    </tr>\n",
       "  </thead>\n",
       "  <tbody>\n",
       "    <tr>\n",
       "      <th>0</th>\n",
       "      <td>Introducing, Terminally Chill. 🧊 Cold IPAs hav...</td>\n",
       "      <td>Knee Deep Brewing Company</td>\n",
       "      <td>2023-03-02</td>\n",
       "    </tr>\n",
       "    <tr>\n",
       "      <th>1</th>\n",
       "      <td>@LoriJulia Would you rather: it be raining eve...</td>\n",
       "      <td>Savage, MN</td>\n",
       "      <td>2023-03-02</td>\n",
       "    </tr>\n",
       "    <tr>\n",
       "      <th>2</th>\n",
       "      <td>It may be cold in #LA but the #networking is h...</td>\n",
       "      <td>Blankspaces</td>\n",
       "      <td>2023-03-02</td>\n",
       "    </tr>\n",
       "    <tr>\n",
       "      <th>3</th>\n",
       "      <td>Poetry gone cold. https://t.co/ikudLjCAbX</td>\n",
       "      <td>Brooklyn, Portland</td>\n",
       "      <td>2023-03-02</td>\n",
       "    </tr>\n",
       "    <tr>\n",
       "      <th>4</th>\n",
       "      <td>Blueskies still cold out there</td>\n",
       "      <td>Tucson, AZ</td>\n",
       "      <td>2023-03-02</td>\n",
       "    </tr>\n",
       "  </tbody>\n",
       "</table>\n",
       "</div>"
      ],
      "text/plain": [
       "                                                text  \\\n",
       "0  Introducing, Terminally Chill. 🧊 Cold IPAs hav...   \n",
       "1  @LoriJulia Would you rather: it be raining eve...   \n",
       "2  It may be cold in #LA but the #networking is h...   \n",
       "3          Poetry gone cold. https://t.co/ikudLjCAbX   \n",
       "4                     Blueskies still cold out there   \n",
       "\n",
       "                    location        date  \n",
       "0  Knee Deep Brewing Company  2023-03-02  \n",
       "1                 Savage, MN  2023-03-02  \n",
       "2                Blankspaces  2023-03-02  \n",
       "3         Brooklyn, Portland  2023-03-02  \n",
       "4                 Tucson, AZ  2023-03-02  "
      ]
     },
     "execution_count": 8,
     "metadata": {},
     "output_type": "execute_result"
    }
   ],
   "source": [
    "df = pd.read_csv('test_tweets.csv')\n",
    "df.head()"
   ]
  },
  {
   "cell_type": "code",
   "execution_count": null,
   "id": "797b27f0",
   "metadata": {},
   "outputs": [],
   "source": []
  },
  {
   "cell_type": "code",
   "execution_count": null,
   "id": "628e5f54",
   "metadata": {},
   "outputs": [],
   "source": []
  },
  {
   "cell_type": "code",
   "execution_count": null,
   "id": "dde97c24",
   "metadata": {},
   "outputs": [],
   "source": []
  }
 ],
 "metadata": {
  "kernelspec": {
   "display_name": "Python 3 (ipykernel)",
   "language": "python",
   "name": "python3"
  },
  "language_info": {
   "codemirror_mode": {
    "name": "ipython",
    "version": 3
   },
   "file_extension": ".py",
   "mimetype": "text/x-python",
   "name": "python",
   "nbconvert_exporter": "python",
   "pygments_lexer": "ipython3",
   "version": "3.8.13"
  },
  "toc": {
   "base_numbering": 1,
   "nav_menu": {},
   "number_sections": false,
   "sideBar": true,
   "skip_h1_title": false,
   "title_cell": "Table of Contents",
   "title_sidebar": "Contents",
   "toc_cell": false,
   "toc_position": {},
   "toc_section_display": true,
   "toc_window_display": false
  },
  "vscode": {
   "interpreter": {
    "hash": "c261aea317cc0286b3b3261fbba9abdec21eaa57589985bb7a274bf54d6cc0a7"
   }
  }
 },
 "nbformat": 4,
 "nbformat_minor": 5
}
