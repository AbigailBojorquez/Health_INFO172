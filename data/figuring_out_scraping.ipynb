{
 "cells": [
  {
   "cell_type": "code",
   "execution_count": 1,
   "metadata": {},
   "outputs": [],
   "source": [
    "## Standard Imports\n",
    "import numpy as np\n",
    "import pandas as pd\n",
    "from datetime import datetime\n",
    "import matplotlib.pyplot as plt\n",
    "import seaborn as sns\n",
    "import spacy \n",
    "import tweepy as tweepy\n",
    "import csv, json\n",
    "from spacy.lang.en.stop_words import STOP_WORDS\n",
    "from textblob import TextBlob\n",
    "## Importing the OS and JSON Modules\n",
    "import os\n",
    "\n",
    "#geolocator = Nominatim(user_agent=\"UCI_Tweet_Illness_App\")\n",
    "nlp = spacy.load('en_core_web_sm')"
   ]
  },
  {
   "cell_type": "code",
   "execution_count": 2,
   "metadata": {},
   "outputs": [],
   "source": [
    "# import twitter api\n",
    "with open('/Users/Zach/Documents/.secret/twitter_api.json') as f:\n",
    "    login = json.load(f)\n",
    "    \n",
    "auth = tweepy.OAuthHandler(login['consumer_key'], login['consumer_secret'])\n",
    "auth.set_access_token(login['access_token'], login['access_secret'])\n",
    " \n",
    "twitter_api = tweepy.API(auth)"
   ]
  },
  {
   "cell_type": "code",
   "execution_count": 3,
   "metadata": {},
   "outputs": [
    {
     "name": "stdout",
     "output_type": "stream",
     "text": [
      "Calls Left: \n",
      "45\n",
      "\n",
      "Time Until Reset: \n",
      "2023-02-27 16:47:21\n"
     ]
    }
   ],
   "source": [
    "# this will tell us how many calls we have left\n",
    "limits = twitter_api.rate_limit_status()\n",
    "print('Calls Left: ')\n",
    "print(limits['resources']['search']['/search/tweets']['remaining'])\n",
    "reset_time = limits['resources']['search']['/search/tweets']['reset']\n",
    "dt = datetime.fromtimestamp(reset_time)\n",
    "print('\\nTime Until Reset: ')\n",
    "print(dt)"
   ]
  },
  {
   "cell_type": "code",
   "execution_count": 14,
   "metadata": {},
   "outputs": [],
   "source": [
    "# Query built by the health team\n",
    "\n",
    "cold_flu_query = 'cold OR flu OR cough OR (runny nose) OR (stuffy nose) OR (sore throat) OR (muscle aches) OR headaches OR (body aches) OR (itchy throat) -filter:retweets'\n",
    "pneu_bronc_query = 'pneumonia OR bronchitis OR sweating OR chills OR (shortness of breath) OR (difficulty breathing) OR (out of breath) OR (blood AND cough) since:2022-01-01 -filter:retweets'\n",
    "location = \"39.8,-95.583068847656,2500km\"  # Geographical center of the US with 2500km radius\n",
    "language = \"en\"\n",
    "result_type = \"recent\""
   ]
  },
  {
   "cell_type": "code",
   "execution_count": 15,
   "metadata": {},
   "outputs": [],
   "source": [
    "# two queries, for low risk and one for high risk infections\n",
    "\n",
    "cold_flu_tweets = tweepy.Cursor(twitter_api.search_tweets, \n",
    "                        q=cold_flu_query, \n",
    "                        geocode=location,\n",
    "                        since_id='2022-01-01',\n",
    "                        lang=language).items(1000)\n",
    "\n",
    "pneu_bronc_tweets = tweepy.Cursor(twitter_api.search_tweets, \n",
    "                        q=pneu_bronc_query, \n",
    "                        geocode=location,\n",
    "                        since_id='2022-01-01',\n",
    "                        lang=language).items(1000)"
   ]
  },
  {
   "cell_type": "code",
   "execution_count": 16,
   "metadata": {},
   "outputs": [],
   "source": [
    "# filter tweets and import into data frame\n",
    "\n",
    "filtered_cold_flu_tweets = []\n",
    "\n",
    "for tweet in cold_flu_tweets:\n",
    "    if tweet.place is not None:\n",
    "        filtered_cold_flu_tweets.append({\n",
    "            'tweet_id': tweet.id,\n",
    "            'text': tweet.text,\n",
    "            'location': tweet.place.full_name,\n",
    "            'date': tweet.created_at.date()\n",
    "        })\n",
    "\n",
    "filtered_pneu_bronc_tweets = []\n",
    "\n",
    "for tweet in pneu_bronc_tweets:\n",
    "    if tweet.place is not None:\n",
    "        filtered_pneu_bronc_tweets.append({\n",
    "            'tweet_id': tweet.id,\n",
    "            'text': tweet.text,\n",
    "            'location': tweet.place.full_name,\n",
    "            'date': tweet.created_at.date()\n",
    "        })"
   ]
  },
  {
   "cell_type": "code",
   "execution_count": 23,
   "metadata": {},
   "outputs": [],
   "source": [
    "# figuring out how to not have duplicates in the file\n",
    "# i'm reading in the file, inserting the 'new' tweets into the the file, then dropping the duplicates, then writing the file again\n",
    "# it doesn't sound optimal, i should be verifying the tweet is new from the for loops up top but i feel like it requires to use a for loop in a for loop which doesn't sound good\n",
    "\n",
    "cf_file = pd.read_csv('cold_flu.csv')\n",
    "pb_file = pd.read_csv('pneu_bronc.csv')\n",
    "\n",
    "low_risk_tweets = pd.DataFrame(filtered_cold_flu_tweets)\n",
    "high_risk_tweets = pd.DataFrame(filtered_pneu_bronc_tweets)\n",
    "\n",
    "new_cf_file = pd.concat([cf_file, low_risk_tweets], ignore_index=True)\n",
    "new_pb_file = pd.concat([pb_file, high_risk_tweets], ignore_index=True)\n",
    "\n",
    "new_cf_file.drop_duplicates(inplace=True)\n",
    "new_pb_file.drop_duplicates(inplace=True)"
   ]
  },
  {
   "cell_type": "code",
   "execution_count": 24,
   "metadata": {},
   "outputs": [
    {
     "data": {
      "text/html": [
       "<div>\n",
       "<style scoped>\n",
       "    .dataframe tbody tr th:only-of-type {\n",
       "        vertical-align: middle;\n",
       "    }\n",
       "\n",
       "    .dataframe tbody tr th {\n",
       "        vertical-align: top;\n",
       "    }\n",
       "\n",
       "    .dataframe thead th {\n",
       "        text-align: right;\n",
       "    }\n",
       "</style>\n",
       "<table border=\"1\" class=\"dataframe\">\n",
       "  <thead>\n",
       "    <tr style=\"text-align: right;\">\n",
       "      <th></th>\n",
       "      <th>tweet_id</th>\n",
       "      <th>text</th>\n",
       "      <th>location</th>\n",
       "      <th>date</th>\n",
       "    </tr>\n",
       "  </thead>\n",
       "  <tbody>\n",
       "    <tr>\n",
       "      <th>0</th>\n",
       "      <td>1630003285267472386</td>\n",
       "      <td>@softcorgamegirl Aren’t your legs cold? Lol Th...</td>\n",
       "      <td>New York, USA</td>\n",
       "      <td>2023-02-27</td>\n",
       "    </tr>\n",
       "    <tr>\n",
       "      <th>1</th>\n",
       "      <td>1630003194783756288</td>\n",
       "      <td>Getting sick of the cold and snow. 1554 infuse...</td>\n",
       "      <td>Eaton, CO</td>\n",
       "      <td>2023-02-27</td>\n",
       "    </tr>\n",
       "    <tr>\n",
       "      <th>2</th>\n",
       "      <td>1630003166514233345</td>\n",
       "      <td>I need a comforting #truecrime hug while I con...</td>\n",
       "      <td>Union, KY</td>\n",
       "      <td>2023-02-27</td>\n",
       "    </tr>\n",
       "    <tr>\n",
       "      <th>3</th>\n",
       "      <td>1630002720605106176</td>\n",
       "      <td>Ever since I had this flu😒 my back is killing ...</td>\n",
       "      <td>Miami, FL</td>\n",
       "      <td>2023-02-27</td>\n",
       "    </tr>\n",
       "    <tr>\n",
       "      <th>4</th>\n",
       "      <td>1630002532704751616</td>\n",
       "      <td>Shoutout to @djgeogeo for experiencing his fir...</td>\n",
       "      <td>Fontana, CA</td>\n",
       "      <td>2023-02-27</td>\n",
       "    </tr>\n",
       "  </tbody>\n",
       "</table>\n",
       "</div>"
      ],
      "text/plain": [
       "              tweet_id                                               text  \\\n",
       "0  1630003285267472386  @softcorgamegirl Aren’t your legs cold? Lol Th...   \n",
       "1  1630003194783756288  Getting sick of the cold and snow. 1554 infuse...   \n",
       "2  1630003166514233345  I need a comforting #truecrime hug while I con...   \n",
       "3  1630002720605106176  Ever since I had this flu😒 my back is killing ...   \n",
       "4  1630002532704751616  Shoutout to @djgeogeo for experiencing his fir...   \n",
       "\n",
       "        location        date  \n",
       "0  New York, USA  2023-02-27  \n",
       "1      Eaton, CO  2023-02-27  \n",
       "2      Union, KY  2023-02-27  \n",
       "3      Miami, FL  2023-02-27  \n",
       "4    Fontana, CA  2023-02-27  "
      ]
     },
     "execution_count": 24,
     "metadata": {},
     "output_type": "execute_result"
    }
   ],
   "source": [
    "new_cf_file.head()"
   ]
  },
  {
   "cell_type": "code",
   "execution_count": 25,
   "metadata": {},
   "outputs": [
    {
     "name": "stdout",
     "output_type": "stream",
     "text": [
      "<class 'pandas.core.frame.DataFrame'>\n",
      "Int64Index: 138 entries, 0 to 168\n",
      "Data columns (total 4 columns):\n",
      " #   Column    Non-Null Count  Dtype \n",
      "---  ------    --------------  ----- \n",
      " 0   tweet_id  138 non-null    int64 \n",
      " 1   text      138 non-null    object\n",
      " 2   location  138 non-null    object\n",
      " 3   date      138 non-null    object\n",
      "dtypes: int64(1), object(3)\n",
      "memory usage: 5.4+ KB\n"
     ]
    }
   ],
   "source": [
    "new_cf_file.info()"
   ]
  },
  {
   "cell_type": "code",
   "execution_count": 26,
   "metadata": {},
   "outputs": [
    {
     "data": {
      "text/html": [
       "<div>\n",
       "<style scoped>\n",
       "    .dataframe tbody tr th:only-of-type {\n",
       "        vertical-align: middle;\n",
       "    }\n",
       "\n",
       "    .dataframe tbody tr th {\n",
       "        vertical-align: top;\n",
       "    }\n",
       "\n",
       "    .dataframe thead th {\n",
       "        text-align: right;\n",
       "    }\n",
       "</style>\n",
       "<table border=\"1\" class=\"dataframe\">\n",
       "  <thead>\n",
       "    <tr style=\"text-align: right;\">\n",
       "      <th></th>\n",
       "      <th>tweet_id</th>\n",
       "      <th>text</th>\n",
       "      <th>location</th>\n",
       "      <th>date</th>\n",
       "    </tr>\n",
       "  </thead>\n",
       "  <tbody>\n",
       "    <tr>\n",
       "      <th>0</th>\n",
       "      <td>1629997714531397635</td>\n",
       "      <td>So don’t ask how I know this…. But just becaus...</td>\n",
       "      <td>Staten Island, NY</td>\n",
       "      <td>2023-02-27</td>\n",
       "    </tr>\n",
       "    <tr>\n",
       "      <th>1</th>\n",
       "      <td>1629991117495123968</td>\n",
       "      <td>@JuniorPalmtrees Had me sweating not going front</td>\n",
       "      <td>Laurel, VA</td>\n",
       "      <td>2023-02-26</td>\n",
       "    </tr>\n",
       "    <tr>\n",
       "      <th>2</th>\n",
       "      <td>1629988525503553536</td>\n",
       "      <td>H pylori I got chills and my head start itchin...</td>\n",
       "      <td>Santa Monica, CA</td>\n",
       "      <td>2023-02-26</td>\n",
       "    </tr>\n",
       "    <tr>\n",
       "      <th>3</th>\n",
       "      <td>1629986231869136897</td>\n",
       "      <td>@amandadavey23 Fever, chills and body aches?? ...</td>\n",
       "      <td>New York, USA</td>\n",
       "      <td>2023-02-26</td>\n",
       "    </tr>\n",
       "    <tr>\n",
       "      <th>4</th>\n",
       "      <td>1629985968139776001</td>\n",
       "      <td>CHRIS. MF. KIRK. \\n\\nSweating that in person a...</td>\n",
       "      <td>Palm Beach Gardens, FL</td>\n",
       "      <td>2023-02-26</td>\n",
       "    </tr>\n",
       "  </tbody>\n",
       "</table>\n",
       "</div>"
      ],
      "text/plain": [
       "              tweet_id                                               text  \\\n",
       "0  1629997714531397635  So don’t ask how I know this…. But just becaus...   \n",
       "1  1629991117495123968   @JuniorPalmtrees Had me sweating not going front   \n",
       "2  1629988525503553536  H pylori I got chills and my head start itchin...   \n",
       "3  1629986231869136897  @amandadavey23 Fever, chills and body aches?? ...   \n",
       "4  1629985968139776001  CHRIS. MF. KIRK. \\n\\nSweating that in person a...   \n",
       "\n",
       "                 location        date  \n",
       "0       Staten Island, NY  2023-02-27  \n",
       "1              Laurel, VA  2023-02-26  \n",
       "2        Santa Monica, CA  2023-02-26  \n",
       "3           New York, USA  2023-02-26  \n",
       "4  Palm Beach Gardens, FL  2023-02-26  "
      ]
     },
     "execution_count": 26,
     "metadata": {},
     "output_type": "execute_result"
    }
   ],
   "source": [
    "new_pb_file.head()"
   ]
  },
  {
   "cell_type": "code",
   "execution_count": 27,
   "metadata": {},
   "outputs": [
    {
     "name": "stdout",
     "output_type": "stream",
     "text": [
      "<class 'pandas.core.frame.DataFrame'>\n",
      "Int64Index: 91 entries, 0 to 132\n",
      "Data columns (total 4 columns):\n",
      " #   Column    Non-Null Count  Dtype \n",
      "---  ------    --------------  ----- \n",
      " 0   tweet_id  91 non-null     int64 \n",
      " 1   text      91 non-null     object\n",
      " 2   location  91 non-null     object\n",
      " 3   date      91 non-null     object\n",
      "dtypes: int64(1), object(3)\n",
      "memory usage: 3.6+ KB\n"
     ]
    }
   ],
   "source": [
    "new_pb_file.info()"
   ]
  },
  {
   "cell_type": "code",
   "execution_count": 22,
   "metadata": {},
   "outputs": [],
   "source": [
    "# put data frame into a csv\n",
    "\n",
    "new_cf_file.to_csv('cold_flu.csv', index=False)\n",
    "new_pb_file.to_csv('pneu_bronc.csv', index=False)"
   ]
  }
 ],
 "metadata": {
  "kernelspec": {
   "display_name": "Python 3",
   "language": "python",
   "name": "python3"
  },
  "language_info": {
   "codemirror_mode": {
    "name": "ipython",
    "version": 3
   },
   "file_extension": ".py",
   "mimetype": "text/x-python",
   "name": "python",
   "nbconvert_exporter": "python",
   "pygments_lexer": "ipython3",
   "version": "3.11.0"
  },
  "orig_nbformat": 4,
  "vscode": {
   "interpreter": {
    "hash": "c261aea317cc0286b3b3261fbba9abdec21eaa57589985bb7a274bf54d6cc0a7"
   }
  }
 },
 "nbformat": 4,
 "nbformat_minor": 2
}
