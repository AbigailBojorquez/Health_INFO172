{
 "cells": [
  {
   "cell_type": "code",
   "execution_count": 1,
   "id": "f77c1d60",
   "metadata": {},
   "outputs": [],
   "source": [
    "## Standard Imports\n",
    "import numpy as np\n",
    "import pandas as pd\n",
    "import matplotlib.pyplot as plt\n",
    "import seaborn as sns\n",
    "## Importing the OS and JSON Modules\n",
    "import os,json"
   ]
  },
  {
   "cell_type": "code",
   "execution_count": 2,
   "id": "6419002d",
   "metadata": {},
   "outputs": [
    {
     "data": {
      "text/html": [
       "<div>\n",
       "<style scoped>\n",
       "    .dataframe tbody tr th:only-of-type {\n",
       "        vertical-align: middle;\n",
       "    }\n",
       "\n",
       "    .dataframe tbody tr th {\n",
       "        vertical-align: top;\n",
       "    }\n",
       "\n",
       "    .dataframe thead th {\n",
       "        text-align: right;\n",
       "    }\n",
       "</style>\n",
       "<table border=\"1\" class=\"dataframe\">\n",
       "  <thead>\n",
       "    <tr style=\"text-align: right;\">\n",
       "      <th></th>\n",
       "      <th>1280615718</th>\n",
       "      <th>2019-06-30 23:45:48+00:00</th>\n",
       "      <th>Seattle, WA</th>\n",
       "      <th>[-122.436232, 47.4953154, -122.2249728, 47.734319]</th>\n",
       "      <th>1.14547857538816E+018</th>\n",
       "      <th>I tried putting it off but Iâ€™m gonna have to take some painkillers. Iâ€™d finally detoxed from them because they were giving me massive migraines , but at this point Iâ€™d rather have a splitting headache than my body in spasms.</th>\n",
       "    </tr>\n",
       "  </thead>\n",
       "  <tbody>\n",
       "    <tr>\n",
       "      <th>0</th>\n",
       "      <td>3.807060e+08</td>\n",
       "      <td>2019-06-30 23:44:11+00:00</td>\n",
       "      <td>McAllen, TX</td>\n",
       "      <td>[-98.2958236, 26.143437, -98.195525, 26.337943]</td>\n",
       "      <td>1.145478e+18</td>\n",
       "      <td>I hope someone ices me when I walk out of the ...</td>\n",
       "    </tr>\n",
       "    <tr>\n",
       "      <th>1</th>\n",
       "      <td>3.169978e+08</td>\n",
       "      <td>2019-06-30 23:40:29+00:00</td>\n",
       "      <td>Council Bluffs, IA</td>\n",
       "      <td>[-95.9235509, 41.194487, -95.746366, 41.300487]</td>\n",
       "      <td>1.145477e+18</td>\n",
       "      <td>I like my steak rare, my woman bare, with some...</td>\n",
       "    </tr>\n",
       "    <tr>\n",
       "      <th>2</th>\n",
       "      <td>2.827821e+08</td>\n",
       "      <td>2019-06-30 23:38:40+00:00</td>\n",
       "      <td>Hope Mills, NC</td>\n",
       "      <td>[-79.033596, 34.894886, -78.834267, 35.009696]</td>\n",
       "      <td>1.145477e+18</td>\n",
       "      <td>@QuickClock23 @SmallcageGG @EBischoff @WWE Wel...</td>\n",
       "    </tr>\n",
       "    <tr>\n",
       "      <th>3</th>\n",
       "      <td>1.452974e+07</td>\n",
       "      <td>2019-06-30 23:32:54+00:00</td>\n",
       "      <td>San Diego, CA</td>\n",
       "      <td>[-117.282538, 32.53962, -116.9274403, 33.0804044]</td>\n",
       "      <td>1.145475e+18</td>\n",
       "      <td>Also I cannot remember a more insane free agen...</td>\n",
       "    </tr>\n",
       "    <tr>\n",
       "      <th>4</th>\n",
       "      <td>8.469084e+17</td>\n",
       "      <td>2019-06-30 23:32:27+00:00</td>\n",
       "      <td>Beverly Hills, CA</td>\n",
       "      <td>[-118.4273439, 34.052559, -118.371934, 34.112434]</td>\n",
       "      <td>1.145475e+18</td>\n",
       "      <td>@ZeeuwsGamertje That was from Friday, I did tw...</td>\n",
       "    </tr>\n",
       "  </tbody>\n",
       "</table>\n",
       "</div>"
      ],
      "text/plain": [
       "     1280615718  2019-06-30 23:45:48+00:00         Seattle, WA  \\\n",
       "0  3.807060e+08  2019-06-30 23:44:11+00:00         McAllen, TX   \n",
       "1  3.169978e+08  2019-06-30 23:40:29+00:00  Council Bluffs, IA   \n",
       "2  2.827821e+08  2019-06-30 23:38:40+00:00      Hope Mills, NC   \n",
       "3  1.452974e+07  2019-06-30 23:32:54+00:00       San Diego, CA   \n",
       "4  8.469084e+17  2019-06-30 23:32:27+00:00   Beverly Hills, CA   \n",
       "\n",
       "  [-122.436232, 47.4953154, -122.2249728, 47.734319]  1.14547857538816E+018  \\\n",
       "0    [-98.2958236, 26.143437, -98.195525, 26.337943]           1.145478e+18   \n",
       "1    [-95.9235509, 41.194487, -95.746366, 41.300487]           1.145477e+18   \n",
       "2     [-79.033596, 34.894886, -78.834267, 35.009696]           1.145477e+18   \n",
       "3  [-117.282538, 32.53962, -116.9274403, 33.0804044]           1.145475e+18   \n",
       "4  [-118.4273439, 34.052559, -118.371934, 34.112434]           1.145475e+18   \n",
       "\n",
       "  I tried putting it off but Iâ€™m gonna have to take some painkillers. Iâ€™d finally detoxed from them because they were giving me massive migraines , but at this point Iâ€™d rather have a splitting headache than my body in spasms.  \n",
       "0  I hope someone ices me when I walk out of the ...                                                                                                                                                                                      \n",
       "1  I like my steak rare, my woman bare, with some...                                                                                                                                                                                      \n",
       "2  @QuickClock23 @SmallcageGG @EBischoff @WWE Wel...                                                                                                                                                                                      \n",
       "3  Also I cannot remember a more insane free agen...                                                                                                                                                                                      \n",
       "4  @ZeeuwsGamertje That was from Friday, I did tw...                                                                                                                                                                                      "
      ]
     },
     "execution_count": 2,
     "metadata": {},
     "output_type": "execute_result"
    }
   ],
   "source": [
    "info_df = pd.read_csv('2020_2022_cold_symptoms.csv')\n",
    "info_df.head()"
   ]
  },
  {
   "cell_type": "code",
   "execution_count": 3,
   "id": "f676b32c",
   "metadata": {},
   "outputs": [
    {
     "name": "stdout",
     "output_type": "stream",
     "text": [
      "<class 'pandas.core.frame.DataFrame'>\n",
      "RangeIndex: 54345 entries, 0 to 54344\n",
      "Data columns (total 6 columns):\n",
      " #   Column                                                                                                                                                                                                                                  Non-Null Count  Dtype  \n",
      "---  ------                                                                                                                                                                                                                                  --------------  -----  \n",
      " 0   1280615718                                                                                                                                                                                                                              54345 non-null  float64\n",
      " 1   2019-06-30 23:45:48+00:00                                                                                                                                                                                                               54345 non-null  object \n",
      " 2   Seattle, WA                                                                                                                                                                                                                             54345 non-null  object \n",
      " 3   [-122.436232, 47.4953154, -122.2249728, 47.734319]                                                                                                                                                                                      54345 non-null  object \n",
      " 4   1.14547857538816E+018                                                                                                                                                                                                                   54345 non-null  float64\n",
      " 5   I tried putting it off but Iâ€™m gonna have to take some painkillers. Iâ€™d finally detoxed from them because they were giving me massive migraines , but at this point Iâ€™d rather have a splitting headache than my body in spasms.  54345 non-null  object \n",
      "dtypes: float64(2), object(4)\n",
      "memory usage: 2.5+ MB\n"
     ]
    }
   ],
   "source": [
    "info_df.info()"
   ]
  },
  {
   "cell_type": "code",
   "execution_count": null,
   "id": "6423fb26",
   "metadata": {},
   "outputs": [],
   "source": []
  }
 ],
 "metadata": {
  "kernelspec": {
   "display_name": "Python (dojo-env)",
   "language": "python",
   "name": "dojo-env"
  },
  "language_info": {
   "codemirror_mode": {
    "name": "ipython",
    "version": 3
   },
   "file_extension": ".py",
   "mimetype": "text/x-python",
   "name": "python",
   "nbconvert_exporter": "python",
   "pygments_lexer": "ipython3",
   "version": "3.8.13"
  },
  "toc": {
   "base_numbering": 1,
   "nav_menu": {},
   "number_sections": false,
   "sideBar": true,
   "skip_h1_title": false,
   "title_cell": "Table of Contents",
   "title_sidebar": "Contents",
   "toc_cell": false,
   "toc_position": {},
   "toc_section_display": true,
   "toc_window_display": false
  }
 },
 "nbformat": 4,
 "nbformat_minor": 5
}
