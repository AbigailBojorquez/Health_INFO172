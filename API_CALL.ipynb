{
 "cells": [
  {
   "cell_type": "code",
   "execution_count": 50,
   "id": "3b5b7dd9",
   "metadata": {},
   "outputs": [],
   "source": [
    "## Standard Imports\n",
    "import numpy as np\n",
    "import pandas as pd\n",
    "from datetime import datetime\n",
    "import matplotlib.pyplot as plt\n",
    "import seaborn as sns\n",
    "import csv\n",
    "import tweepy as tweepy"
   ]
  },
  {
   "cell_type": "code",
   "execution_count": 15,
   "id": "fe692f91",
   "metadata": {},
   "outputs": [],
   "source": [
    "import json\n",
    "with open('/Users/abigailbojorquez/.secret/twitter_api.json') as f:\n",
    "    login = json.load(f)\n",
    "    \n",
    "    login.keys()"
   ]
  },
  {
   "cell_type": "code",
   "execution_count": 37,
   "id": "869be3f0",
   "metadata": {
    "scrolled": true
   },
   "outputs": [
    {
     "name": "stdout",
     "output_type": "stream",
     "text": [
      "<tweepy.api.API object at 0x7ff0a666cb50>\n"
     ]
    }
   ],
   "source": [
    "auth = tweepy.OAuthHandler(login['consumer_key'], login['consumer_secret'])\n",
    "auth.set_access_token(login['access_token'], login['access_secret'])\n",
    " \n",
    "twitter_api = tweepy.API(auth)"
   ]
  },
  {
   "cell_type": "code",
   "execution_count": 49,
   "id": "252684e8",
   "metadata": {},
   "outputs": [
    {
     "name": "stdout",
     "output_type": "stream",
     "text": [
      "@GOP Come on people reading this—BIRD FLU! Does the GOP view this like Covid and therefore bird flu does not exist.\n",
      "@ChrisWriting_ You're doing great!\n",
      "\n",
      "Cold calling can be so draining, especially on days like this but you could be… https://t.co/IEYdULaRpy\n",
      "@GOP DEREGULATION OF INDUSTRIES ON SAFETY CREATED ISSUES WITH THE FOOD INDUSTRIES. IN THIS CASE THE BIRD FLU KILLED… https://t.co/hM3uD4KsYT\n",
      "@Greyfox451 feel like I got strawberry cold medicine on my mouth rn\n",
      "@GOP Sure. Corporate greed and the Avian flu are all his fault. Meanwhile, what is the @HouseGOP and @SenateGOP doing?\n"
     ]
    }
   ],
   "source": [
    "# Quick Test Query\n",
    "search_words = 'cold OR flu OR pneumonia OR bronchitis'\n",
    "\n",
    "results = tweepy.Cursor(twitter_api.search_tweets, \n",
    "                        q=search_words, \n",
    "                        lang='en', \n",
    "                        since_id='2023-02-20').items(5)\n",
    "for tweets in results:\n",
    "    print(tweets.text)"
   ]
  },
  {
   "cell_type": "code",
   "execution_count": null,
   "id": "8722c178",
   "metadata": {},
   "outputs": [],
   "source": []
  }
 ],
 "metadata": {
  "kernelspec": {
   "display_name": "Python (dojo-env)",
   "language": "python",
   "name": "dojo-env"
  },
  "language_info": {
   "codemirror_mode": {
    "name": "ipython",
    "version": 3
   },
   "file_extension": ".py",
   "mimetype": "text/x-python",
   "name": "python",
   "nbconvert_exporter": "python",
   "pygments_lexer": "ipython3",
   "version": "3.8.13"
  },
  "toc": {
   "base_numbering": 1,
   "nav_menu": {},
   "number_sections": false,
   "sideBar": true,
   "skip_h1_title": false,
   "title_cell": "Table of Contents",
   "title_sidebar": "Contents",
   "toc_cell": false,
   "toc_position": {},
   "toc_section_display": true,
   "toc_window_display": false
  }
 },
 "nbformat": 4,
 "nbformat_minor": 5
}
